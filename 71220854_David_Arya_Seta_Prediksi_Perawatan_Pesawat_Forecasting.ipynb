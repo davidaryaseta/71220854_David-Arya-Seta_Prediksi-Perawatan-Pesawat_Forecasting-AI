{
  "nbformat": 4,
  "nbformat_minor": 0,
  "metadata": {
    "colab": {
      "provenance": []
    },
    "kernelspec": {
      "name": "python3",
      "display_name": "Python 3"
    },
    "language_info": {
      "name": "python"
    },
    "widgets": {
      "application/vnd.jupyter.widget-state+json": {
        "d94a3d18d3c642b49fa8a1582034f9e3": {
          "model_module": "@jupyter-widgets/controls",
          "model_name": "IntTextModel",
          "model_module_version": "1.5.0",
          "state": {
            "_dom_classes": [],
            "_model_module": "@jupyter-widgets/controls",
            "_model_module_version": "1.5.0",
            "_model_name": "IntTextModel",
            "_view_count": null,
            "_view_module": "@jupyter-widgets/controls",
            "_view_module_version": "1.5.0",
            "_view_name": "IntTextView",
            "continuous_update": false,
            "description": "id:",
            "description_tooltip": null,
            "disabled": false,
            "layout": "IPY_MODEL_355cd0048756493d834cdaa2563fd0fb",
            "step": 1,
            "style": "IPY_MODEL_988ac082860d4cc9b0b9b98ad82a7163",
            "value": 1
          }
        },
        "355cd0048756493d834cdaa2563fd0fb": {
          "model_module": "@jupyter-widgets/base",
          "model_name": "LayoutModel",
          "model_module_version": "1.2.0",
          "state": {
            "_model_module": "@jupyter-widgets/base",
            "_model_module_version": "1.2.0",
            "_model_name": "LayoutModel",
            "_view_count": null,
            "_view_module": "@jupyter-widgets/base",
            "_view_module_version": "1.2.0",
            "_view_name": "LayoutView",
            "align_content": null,
            "align_items": null,
            "align_self": null,
            "border": null,
            "bottom": null,
            "display": null,
            "flex": null,
            "flex_flow": null,
            "grid_area": null,
            "grid_auto_columns": null,
            "grid_auto_flow": null,
            "grid_auto_rows": null,
            "grid_column": null,
            "grid_gap": null,
            "grid_row": null,
            "grid_template_areas": null,
            "grid_template_columns": null,
            "grid_template_rows": null,
            "height": null,
            "justify_content": null,
            "justify_items": null,
            "left": null,
            "margin": null,
            "max_height": null,
            "max_width": null,
            "min_height": null,
            "min_width": null,
            "object_fit": null,
            "object_position": null,
            "order": null,
            "overflow": null,
            "overflow_x": null,
            "overflow_y": null,
            "padding": null,
            "right": null,
            "top": null,
            "visibility": null,
            "width": null
          }
        },
        "988ac082860d4cc9b0b9b98ad82a7163": {
          "model_module": "@jupyter-widgets/controls",
          "model_name": "DescriptionStyleModel",
          "model_module_version": "1.5.0",
          "state": {
            "_model_module": "@jupyter-widgets/controls",
            "_model_module_version": "1.5.0",
            "_model_name": "DescriptionStyleModel",
            "_view_count": null,
            "_view_module": "@jupyter-widgets/base",
            "_view_module_version": "1.2.0",
            "_view_name": "StyleView",
            "description_width": ""
          }
        },
        "9f18022ff7474bf7b178ff9635e4de01": {
          "model_module": "@jupyter-widgets/controls",
          "model_name": "IntTextModel",
          "model_module_version": "1.5.0",
          "state": {
            "_dom_classes": [],
            "_model_module": "@jupyter-widgets/controls",
            "_model_module_version": "1.5.0",
            "_model_name": "IntTextModel",
            "_view_count": null,
            "_view_module": "@jupyter-widgets/controls",
            "_view_module_version": "1.5.0",
            "_view_name": "IntTextView",
            "continuous_update": false,
            "description": "cycle:",
            "description_tooltip": null,
            "disabled": false,
            "layout": "IPY_MODEL_3e794455379a4deeace68d44f902005c",
            "step": 1,
            "style": "IPY_MODEL_dd8dfaea8f344b6cbdbbbcb623aa0b63",
            "value": 31
          }
        },
        "3e794455379a4deeace68d44f902005c": {
          "model_module": "@jupyter-widgets/base",
          "model_name": "LayoutModel",
          "model_module_version": "1.2.0",
          "state": {
            "_model_module": "@jupyter-widgets/base",
            "_model_module_version": "1.2.0",
            "_model_name": "LayoutModel",
            "_view_count": null,
            "_view_module": "@jupyter-widgets/base",
            "_view_module_version": "1.2.0",
            "_view_name": "LayoutView",
            "align_content": null,
            "align_items": null,
            "align_self": null,
            "border": null,
            "bottom": null,
            "display": null,
            "flex": null,
            "flex_flow": null,
            "grid_area": null,
            "grid_auto_columns": null,
            "grid_auto_flow": null,
            "grid_auto_rows": null,
            "grid_column": null,
            "grid_gap": null,
            "grid_row": null,
            "grid_template_areas": null,
            "grid_template_columns": null,
            "grid_template_rows": null,
            "height": null,
            "justify_content": null,
            "justify_items": null,
            "left": null,
            "margin": null,
            "max_height": null,
            "max_width": null,
            "min_height": null,
            "min_width": null,
            "object_fit": null,
            "object_position": null,
            "order": null,
            "overflow": null,
            "overflow_x": null,
            "overflow_y": null,
            "padding": null,
            "right": null,
            "top": null,
            "visibility": null,
            "width": null
          }
        },
        "dd8dfaea8f344b6cbdbbbcb623aa0b63": {
          "model_module": "@jupyter-widgets/controls",
          "model_name": "DescriptionStyleModel",
          "model_module_version": "1.5.0",
          "state": {
            "_model_module": "@jupyter-widgets/controls",
            "_model_module_version": "1.5.0",
            "_model_name": "DescriptionStyleModel",
            "_view_count": null,
            "_view_module": "@jupyter-widgets/base",
            "_view_module_version": "1.2.0",
            "_view_name": "StyleView",
            "description_width": ""
          }
        },
        "844cc2a0a0a64a89aa11d6cefd83a503": {
          "model_module": "@jupyter-widgets/controls",
          "model_name": "FloatTextModel",
          "model_module_version": "1.5.0",
          "state": {
            "_dom_classes": [],
            "_model_module": "@jupyter-widgets/controls",
            "_model_module_version": "1.5.0",
            "_model_name": "FloatTextModel",
            "_view_count": null,
            "_view_module": "@jupyter-widgets/controls",
            "_view_module_version": "1.5.0",
            "_view_name": "FloatTextView",
            "continuous_update": false,
            "description": "Setting 1:",
            "description_tooltip": null,
            "disabled": false,
            "layout": "IPY_MODEL_2e252c5035b7491a8937266affe61328",
            "step": null,
            "style": "IPY_MODEL_a2305fdeb03a4bf08f65e5aeaf6afbe6",
            "value": 1143
          }
        },
        "2e252c5035b7491a8937266affe61328": {
          "model_module": "@jupyter-widgets/base",
          "model_name": "LayoutModel",
          "model_module_version": "1.2.0",
          "state": {
            "_model_module": "@jupyter-widgets/base",
            "_model_module_version": "1.2.0",
            "_model_name": "LayoutModel",
            "_view_count": null,
            "_view_module": "@jupyter-widgets/base",
            "_view_module_version": "1.2.0",
            "_view_name": "LayoutView",
            "align_content": null,
            "align_items": null,
            "align_self": null,
            "border": null,
            "bottom": null,
            "display": null,
            "flex": null,
            "flex_flow": null,
            "grid_area": null,
            "grid_auto_columns": null,
            "grid_auto_flow": null,
            "grid_auto_rows": null,
            "grid_column": null,
            "grid_gap": null,
            "grid_row": null,
            "grid_template_areas": null,
            "grid_template_columns": null,
            "grid_template_rows": null,
            "height": null,
            "justify_content": null,
            "justify_items": null,
            "left": null,
            "margin": null,
            "max_height": null,
            "max_width": null,
            "min_height": null,
            "min_width": null,
            "object_fit": null,
            "object_position": null,
            "order": null,
            "overflow": null,
            "overflow_x": null,
            "overflow_y": null,
            "padding": null,
            "right": null,
            "top": null,
            "visibility": null,
            "width": null
          }
        },
        "a2305fdeb03a4bf08f65e5aeaf6afbe6": {
          "model_module": "@jupyter-widgets/controls",
          "model_name": "DescriptionStyleModel",
          "model_module_version": "1.5.0",
          "state": {
            "_model_module": "@jupyter-widgets/controls",
            "_model_module_version": "1.5.0",
            "_model_name": "DescriptionStyleModel",
            "_view_count": null,
            "_view_module": "@jupyter-widgets/base",
            "_view_module_version": "1.2.0",
            "_view_name": "StyleView",
            "description_width": ""
          }
        },
        "53c883602dc0485182e856d8f1fccc20": {
          "model_module": "@jupyter-widgets/controls",
          "model_name": "FloatTextModel",
          "model_module_version": "1.5.0",
          "state": {
            "_dom_classes": [],
            "_model_module": "@jupyter-widgets/controls",
            "_model_module_version": "1.5.0",
            "_model_name": "FloatTextModel",
            "_view_count": null,
            "_view_module": "@jupyter-widgets/controls",
            "_view_module_version": "1.5.0",
            "_view_name": "FloatTextView",
            "continuous_update": false,
            "description": "Setting 2:",
            "description_tooltip": null,
            "disabled": false,
            "layout": "IPY_MODEL_582b1663d7a74b70bb1300adeccd1622",
            "step": null,
            "style": "IPY_MODEL_257140c7a0754f468fc7aa687c3ab272",
            "value": 4218
          }
        },
        "582b1663d7a74b70bb1300adeccd1622": {
          "model_module": "@jupyter-widgets/base",
          "model_name": "LayoutModel",
          "model_module_version": "1.2.0",
          "state": {
            "_model_module": "@jupyter-widgets/base",
            "_model_module_version": "1.2.0",
            "_model_name": "LayoutModel",
            "_view_count": null,
            "_view_module": "@jupyter-widgets/base",
            "_view_module_version": "1.2.0",
            "_view_name": "LayoutView",
            "align_content": null,
            "align_items": null,
            "align_self": null,
            "border": null,
            "bottom": null,
            "display": null,
            "flex": null,
            "flex_flow": null,
            "grid_area": null,
            "grid_auto_columns": null,
            "grid_auto_flow": null,
            "grid_auto_rows": null,
            "grid_column": null,
            "grid_gap": null,
            "grid_row": null,
            "grid_template_areas": null,
            "grid_template_columns": null,
            "grid_template_rows": null,
            "height": null,
            "justify_content": null,
            "justify_items": null,
            "left": null,
            "margin": null,
            "max_height": null,
            "max_width": null,
            "min_height": null,
            "min_width": null,
            "object_fit": null,
            "object_position": null,
            "order": null,
            "overflow": null,
            "overflow_x": null,
            "overflow_y": null,
            "padding": null,
            "right": null,
            "top": null,
            "visibility": null,
            "width": null
          }
        },
        "257140c7a0754f468fc7aa687c3ab272": {
          "model_module": "@jupyter-widgets/controls",
          "model_name": "DescriptionStyleModel",
          "model_module_version": "1.5.0",
          "state": {
            "_model_module": "@jupyter-widgets/controls",
            "_model_module_version": "1.5.0",
            "_model_name": "DescriptionStyleModel",
            "_view_count": null,
            "_view_module": "@jupyter-widgets/base",
            "_view_module_version": "1.2.0",
            "_view_name": "StyleView",
            "description_width": ""
          }
        },
        "ccb066c2da6f42b09f245e58bb60e7ce": {
          "model_module": "@jupyter-widgets/controls",
          "model_name": "FloatTextModel",
          "model_module_version": "1.5.0",
          "state": {
            "_dom_classes": [],
            "_model_module": "@jupyter-widgets/controls",
            "_model_module_version": "1.5.0",
            "_model_name": "FloatTextModel",
            "_view_count": null,
            "_view_module": "@jupyter-widgets/controls",
            "_view_module_version": "1.5.0",
            "_view_name": "FloatTextView",
            "continuous_update": false,
            "description": "Setting 3:",
            "description_tooltip": null,
            "disabled": false,
            "layout": "IPY_MODEL_eda1d81320ee4e669db3cfc2a073e5c8",
            "step": null,
            "style": "IPY_MODEL_18e69273675c4b798ce8a245c8701ffc",
            "value": 4823
          }
        },
        "eda1d81320ee4e669db3cfc2a073e5c8": {
          "model_module": "@jupyter-widgets/base",
          "model_name": "LayoutModel",
          "model_module_version": "1.2.0",
          "state": {
            "_model_module": "@jupyter-widgets/base",
            "_model_module_version": "1.2.0",
            "_model_name": "LayoutModel",
            "_view_count": null,
            "_view_module": "@jupyter-widgets/base",
            "_view_module_version": "1.2.0",
            "_view_name": "LayoutView",
            "align_content": null,
            "align_items": null,
            "align_self": null,
            "border": null,
            "bottom": null,
            "display": null,
            "flex": null,
            "flex_flow": null,
            "grid_area": null,
            "grid_auto_columns": null,
            "grid_auto_flow": null,
            "grid_auto_rows": null,
            "grid_column": null,
            "grid_gap": null,
            "grid_row": null,
            "grid_template_areas": null,
            "grid_template_columns": null,
            "grid_template_rows": null,
            "height": null,
            "justify_content": null,
            "justify_items": null,
            "left": null,
            "margin": null,
            "max_height": null,
            "max_width": null,
            "min_height": null,
            "min_width": null,
            "object_fit": null,
            "object_position": null,
            "order": null,
            "overflow": null,
            "overflow_x": null,
            "overflow_y": null,
            "padding": null,
            "right": null,
            "top": null,
            "visibility": null,
            "width": null
          }
        },
        "18e69273675c4b798ce8a245c8701ffc": {
          "model_module": "@jupyter-widgets/controls",
          "model_name": "DescriptionStyleModel",
          "model_module_version": "1.5.0",
          "state": {
            "_model_module": "@jupyter-widgets/controls",
            "_model_module_version": "1.5.0",
            "_model_name": "DescriptionStyleModel",
            "_view_count": null,
            "_view_module": "@jupyter-widgets/base",
            "_view_module_version": "1.2.0",
            "_view_name": "StyleView",
            "description_width": ""
          }
        },
        "439a3aede7714352b98dc4da411e2013": {
          "model_module": "@jupyter-widgets/controls",
          "model_name": "FloatTextModel",
          "model_module_version": "1.5.0",
          "state": {
            "_dom_classes": [],
            "_model_module": "@jupyter-widgets/controls",
            "_model_module_version": "1.5.0",
            "_model_name": "FloatTextModel",
            "_view_count": null,
            "_view_module": "@jupyter-widgets/controls",
            "_view_module_version": "1.5.0",
            "_view_name": "FloatTextView",
            "continuous_update": false,
            "description": "s1:",
            "description_tooltip": null,
            "disabled": false,
            "layout": "IPY_MODEL_9090ef940400442d835856b72d390dba",
            "step": null,
            "style": "IPY_MODEL_db7070e32ad9473da25ae2696250f621",
            "value": 9223
          }
        },
        "9090ef940400442d835856b72d390dba": {
          "model_module": "@jupyter-widgets/base",
          "model_name": "LayoutModel",
          "model_module_version": "1.2.0",
          "state": {
            "_model_module": "@jupyter-widgets/base",
            "_model_module_version": "1.2.0",
            "_model_name": "LayoutModel",
            "_view_count": null,
            "_view_module": "@jupyter-widgets/base",
            "_view_module_version": "1.2.0",
            "_view_name": "LayoutView",
            "align_content": null,
            "align_items": null,
            "align_self": null,
            "border": null,
            "bottom": null,
            "display": null,
            "flex": null,
            "flex_flow": null,
            "grid_area": null,
            "grid_auto_columns": null,
            "grid_auto_flow": null,
            "grid_auto_rows": null,
            "grid_column": null,
            "grid_gap": null,
            "grid_row": null,
            "grid_template_areas": null,
            "grid_template_columns": null,
            "grid_template_rows": null,
            "height": null,
            "justify_content": null,
            "justify_items": null,
            "left": null,
            "margin": null,
            "max_height": null,
            "max_width": null,
            "min_height": null,
            "min_width": null,
            "object_fit": null,
            "object_position": null,
            "order": null,
            "overflow": null,
            "overflow_x": null,
            "overflow_y": null,
            "padding": null,
            "right": null,
            "top": null,
            "visibility": null,
            "width": null
          }
        },
        "db7070e32ad9473da25ae2696250f621": {
          "model_module": "@jupyter-widgets/controls",
          "model_name": "DescriptionStyleModel",
          "model_module_version": "1.5.0",
          "state": {
            "_model_module": "@jupyter-widgets/controls",
            "_model_module_version": "1.5.0",
            "_model_name": "DescriptionStyleModel",
            "_view_count": null,
            "_view_module": "@jupyter-widgets/base",
            "_view_module_version": "1.2.0",
            "_view_name": "StyleView",
            "description_width": ""
          }
        },
        "99d090d046b2458f908c9c42a26ef84e": {
          "model_module": "@jupyter-widgets/controls",
          "model_name": "FloatTextModel",
          "model_module_version": "1.5.0",
          "state": {
            "_dom_classes": [],
            "_model_module": "@jupyter-widgets/controls",
            "_model_module_version": "1.5.0",
            "_model_name": "FloatTextModel",
            "_view_count": null,
            "_view_module": "@jupyter-widgets/controls",
            "_view_module_version": "1.5.0",
            "_view_name": "FloatTextView",
            "continuous_update": false,
            "description": "s2:",
            "description_tooltip": null,
            "disabled": false,
            "layout": "IPY_MODEL_d070c844ad2c4b4bacf08cf01ddb4fb4",
            "step": null,
            "style": "IPY_MODEL_c5a8fa23839f430fa084a47b4dfed72b",
            "value": 1
          }
        },
        "d070c844ad2c4b4bacf08cf01ddb4fb4": {
          "model_module": "@jupyter-widgets/base",
          "model_name": "LayoutModel",
          "model_module_version": "1.2.0",
          "state": {
            "_model_module": "@jupyter-widgets/base",
            "_model_module_version": "1.2.0",
            "_model_name": "LayoutModel",
            "_view_count": null,
            "_view_module": "@jupyter-widgets/base",
            "_view_module_version": "1.2.0",
            "_view_name": "LayoutView",
            "align_content": null,
            "align_items": null,
            "align_self": null,
            "border": null,
            "bottom": null,
            "display": null,
            "flex": null,
            "flex_flow": null,
            "grid_area": null,
            "grid_auto_columns": null,
            "grid_auto_flow": null,
            "grid_auto_rows": null,
            "grid_column": null,
            "grid_gap": null,
            "grid_row": null,
            "grid_template_areas": null,
            "grid_template_columns": null,
            "grid_template_rows": null,
            "height": null,
            "justify_content": null,
            "justify_items": null,
            "left": null,
            "margin": null,
            "max_height": null,
            "max_width": null,
            "min_height": null,
            "min_width": null,
            "object_fit": null,
            "object_position": null,
            "order": null,
            "overflow": null,
            "overflow_x": null,
            "overflow_y": null,
            "padding": null,
            "right": null,
            "top": null,
            "visibility": null,
            "width": null
          }
        },
        "c5a8fa23839f430fa084a47b4dfed72b": {
          "model_module": "@jupyter-widgets/controls",
          "model_name": "DescriptionStyleModel",
          "model_module_version": "1.5.0",
          "state": {
            "_model_module": "@jupyter-widgets/controls",
            "_model_module_version": "1.5.0",
            "_model_name": "DescriptionStyleModel",
            "_view_count": null,
            "_view_module": "@jupyter-widgets/base",
            "_view_module_version": "1.2.0",
            "_view_name": "StyleView",
            "description_width": ""
          }
        },
        "bcf576b4adfe49e08e8f38922d1a876e": {
          "model_module": "@jupyter-widgets/controls",
          "model_name": "FloatTextModel",
          "model_module_version": "1.5.0",
          "state": {
            "_dom_classes": [],
            "_model_module": "@jupyter-widgets/controls",
            "_model_module_version": "1.5.0",
            "_model_name": "FloatTextModel",
            "_view_count": null,
            "_view_module": "@jupyter-widgets/controls",
            "_view_module_version": "1.5.0",
            "_view_name": "FloatTextView",
            "continuous_update": false,
            "description": "s3:",
            "description_tooltip": null,
            "disabled": false,
            "layout": "IPY_MODEL_b4374ed2db1e4d52921258ce98369c4c",
            "step": null,
            "style": "IPY_MODEL_0b5d733a9b654b4580410853f4713230",
            "value": 0
          }
        },
        "b4374ed2db1e4d52921258ce98369c4c": {
          "model_module": "@jupyter-widgets/base",
          "model_name": "LayoutModel",
          "model_module_version": "1.2.0",
          "state": {
            "_model_module": "@jupyter-widgets/base",
            "_model_module_version": "1.2.0",
            "_model_name": "LayoutModel",
            "_view_count": null,
            "_view_module": "@jupyter-widgets/base",
            "_view_module_version": "1.2.0",
            "_view_name": "LayoutView",
            "align_content": null,
            "align_items": null,
            "align_self": null,
            "border": null,
            "bottom": null,
            "display": null,
            "flex": null,
            "flex_flow": null,
            "grid_area": null,
            "grid_auto_columns": null,
            "grid_auto_flow": null,
            "grid_auto_rows": null,
            "grid_column": null,
            "grid_gap": null,
            "grid_row": null,
            "grid_template_areas": null,
            "grid_template_columns": null,
            "grid_template_rows": null,
            "height": null,
            "justify_content": null,
            "justify_items": null,
            "left": null,
            "margin": null,
            "max_height": null,
            "max_width": null,
            "min_height": null,
            "min_width": null,
            "object_fit": null,
            "object_position": null,
            "order": null,
            "overflow": null,
            "overflow_x": null,
            "overflow_y": null,
            "padding": null,
            "right": null,
            "top": null,
            "visibility": null,
            "width": null
          }
        },
        "0b5d733a9b654b4580410853f4713230": {
          "model_module": "@jupyter-widgets/controls",
          "model_name": "DescriptionStyleModel",
          "model_module_version": "1.5.0",
          "state": {
            "_model_module": "@jupyter-widgets/controls",
            "_model_module_version": "1.5.0",
            "_model_name": "DescriptionStyleModel",
            "_view_count": null,
            "_view_module": "@jupyter-widgets/base",
            "_view_module_version": "1.2.0",
            "_view_name": "StyleView",
            "description_width": ""
          }
        },
        "78cb1f3c3b894455bdbd67789f85353a": {
          "model_module": "@jupyter-widgets/controls",
          "model_name": "FloatTextModel",
          "model_module_version": "1.5.0",
          "state": {
            "_dom_classes": [],
            "_model_module": "@jupyter-widgets/controls",
            "_model_module_version": "1.5.0",
            "_model_name": "FloatTextModel",
            "_view_count": null,
            "_view_module": "@jupyter-widgets/controls",
            "_view_module_version": "1.5.0",
            "_view_name": "FloatTextView",
            "continuous_update": false,
            "description": "s4:",
            "description_tooltip": null,
            "disabled": false,
            "layout": "IPY_MODEL_7cd86506bca34ac08e2a20f8195e25b6",
            "step": null,
            "style": "IPY_MODEL_9838c262ba7f4a5da68e003133463e2e",
            "value": 4324
          }
        },
        "7cd86506bca34ac08e2a20f8195e25b6": {
          "model_module": "@jupyter-widgets/base",
          "model_name": "LayoutModel",
          "model_module_version": "1.2.0",
          "state": {
            "_model_module": "@jupyter-widgets/base",
            "_model_module_version": "1.2.0",
            "_model_name": "LayoutModel",
            "_view_count": null,
            "_view_module": "@jupyter-widgets/base",
            "_view_module_version": "1.2.0",
            "_view_name": "LayoutView",
            "align_content": null,
            "align_items": null,
            "align_self": null,
            "border": null,
            "bottom": null,
            "display": null,
            "flex": null,
            "flex_flow": null,
            "grid_area": null,
            "grid_auto_columns": null,
            "grid_auto_flow": null,
            "grid_auto_rows": null,
            "grid_column": null,
            "grid_gap": null,
            "grid_row": null,
            "grid_template_areas": null,
            "grid_template_columns": null,
            "grid_template_rows": null,
            "height": null,
            "justify_content": null,
            "justify_items": null,
            "left": null,
            "margin": null,
            "max_height": null,
            "max_width": null,
            "min_height": null,
            "min_width": null,
            "object_fit": null,
            "object_position": null,
            "order": null,
            "overflow": null,
            "overflow_x": null,
            "overflow_y": null,
            "padding": null,
            "right": null,
            "top": null,
            "visibility": null,
            "width": null
          }
        },
        "9838c262ba7f4a5da68e003133463e2e": {
          "model_module": "@jupyter-widgets/controls",
          "model_name": "DescriptionStyleModel",
          "model_module_version": "1.5.0",
          "state": {
            "_model_module": "@jupyter-widgets/controls",
            "_model_module_version": "1.5.0",
            "_model_name": "DescriptionStyleModel",
            "_view_count": null,
            "_view_module": "@jupyter-widgets/base",
            "_view_module_version": "1.2.0",
            "_view_name": "StyleView",
            "description_width": ""
          }
        },
        "124a0760bccf48a89f91e13fa17849af": {
          "model_module": "@jupyter-widgets/controls",
          "model_name": "FloatTextModel",
          "model_module_version": "1.5.0",
          "state": {
            "_dom_classes": [],
            "_model_module": "@jupyter-widgets/controls",
            "_model_module_version": "1.5.0",
            "_model_name": "FloatTextModel",
            "_view_count": null,
            "_view_module": "@jupyter-widgets/controls",
            "_view_module_version": "1.5.0",
            "_view_name": "FloatTextView",
            "continuous_update": false,
            "description": "s5:",
            "description_tooltip": null,
            "disabled": false,
            "layout": "IPY_MODEL_b07d1d8e23e44ed6b6ce0cc644bf7428",
            "step": null,
            "style": "IPY_MODEL_399dd5f340904e709ac580381d556056",
            "value": 4242
          }
        },
        "b07d1d8e23e44ed6b6ce0cc644bf7428": {
          "model_module": "@jupyter-widgets/base",
          "model_name": "LayoutModel",
          "model_module_version": "1.2.0",
          "state": {
            "_model_module": "@jupyter-widgets/base",
            "_model_module_version": "1.2.0",
            "_model_name": "LayoutModel",
            "_view_count": null,
            "_view_module": "@jupyter-widgets/base",
            "_view_module_version": "1.2.0",
            "_view_name": "LayoutView",
            "align_content": null,
            "align_items": null,
            "align_self": null,
            "border": null,
            "bottom": null,
            "display": null,
            "flex": null,
            "flex_flow": null,
            "grid_area": null,
            "grid_auto_columns": null,
            "grid_auto_flow": null,
            "grid_auto_rows": null,
            "grid_column": null,
            "grid_gap": null,
            "grid_row": null,
            "grid_template_areas": null,
            "grid_template_columns": null,
            "grid_template_rows": null,
            "height": null,
            "justify_content": null,
            "justify_items": null,
            "left": null,
            "margin": null,
            "max_height": null,
            "max_width": null,
            "min_height": null,
            "min_width": null,
            "object_fit": null,
            "object_position": null,
            "order": null,
            "overflow": null,
            "overflow_x": null,
            "overflow_y": null,
            "padding": null,
            "right": null,
            "top": null,
            "visibility": null,
            "width": null
          }
        },
        "399dd5f340904e709ac580381d556056": {
          "model_module": "@jupyter-widgets/controls",
          "model_name": "DescriptionStyleModel",
          "model_module_version": "1.5.0",
          "state": {
            "_model_module": "@jupyter-widgets/controls",
            "_model_module_version": "1.5.0",
            "_model_name": "DescriptionStyleModel",
            "_view_count": null,
            "_view_module": "@jupyter-widgets/base",
            "_view_module_version": "1.2.0",
            "_view_name": "StyleView",
            "description_width": ""
          }
        },
        "cd42402e89534e479c24b843c6c2221d": {
          "model_module": "@jupyter-widgets/controls",
          "model_name": "FloatTextModel",
          "model_module_version": "1.5.0",
          "state": {
            "_dom_classes": [],
            "_model_module": "@jupyter-widgets/controls",
            "_model_module_version": "1.5.0",
            "_model_name": "FloatTextModel",
            "_view_count": null,
            "_view_module": "@jupyter-widgets/controls",
            "_view_module_version": "1.5.0",
            "_view_name": "FloatTextView",
            "continuous_update": false,
            "description": "s6:",
            "description_tooltip": null,
            "disabled": false,
            "layout": "IPY_MODEL_34ac459d54d14466bb35ff3fe284e018",
            "step": null,
            "style": "IPY_MODEL_73125aa777b1419a8d4ad498915b0c5e",
            "value": 42028
          }
        },
        "34ac459d54d14466bb35ff3fe284e018": {
          "model_module": "@jupyter-widgets/base",
          "model_name": "LayoutModel",
          "model_module_version": "1.2.0",
          "state": {
            "_model_module": "@jupyter-widgets/base",
            "_model_module_version": "1.2.0",
            "_model_name": "LayoutModel",
            "_view_count": null,
            "_view_module": "@jupyter-widgets/base",
            "_view_module_version": "1.2.0",
            "_view_name": "LayoutView",
            "align_content": null,
            "align_items": null,
            "align_self": null,
            "border": null,
            "bottom": null,
            "display": null,
            "flex": null,
            "flex_flow": null,
            "grid_area": null,
            "grid_auto_columns": null,
            "grid_auto_flow": null,
            "grid_auto_rows": null,
            "grid_column": null,
            "grid_gap": null,
            "grid_row": null,
            "grid_template_areas": null,
            "grid_template_columns": null,
            "grid_template_rows": null,
            "height": null,
            "justify_content": null,
            "justify_items": null,
            "left": null,
            "margin": null,
            "max_height": null,
            "max_width": null,
            "min_height": null,
            "min_width": null,
            "object_fit": null,
            "object_position": null,
            "order": null,
            "overflow": null,
            "overflow_x": null,
            "overflow_y": null,
            "padding": null,
            "right": null,
            "top": null,
            "visibility": null,
            "width": null
          }
        },
        "73125aa777b1419a8d4ad498915b0c5e": {
          "model_module": "@jupyter-widgets/controls",
          "model_name": "DescriptionStyleModel",
          "model_module_version": "1.5.0",
          "state": {
            "_model_module": "@jupyter-widgets/controls",
            "_model_module_version": "1.5.0",
            "_model_name": "DescriptionStyleModel",
            "_view_count": null,
            "_view_module": "@jupyter-widgets/base",
            "_view_module_version": "1.2.0",
            "_view_name": "StyleView",
            "description_width": ""
          }
        },
        "6dfd9af5b3b746c09240af032f495d05": {
          "model_module": "@jupyter-widgets/controls",
          "model_name": "FloatTextModel",
          "model_module_version": "1.5.0",
          "state": {
            "_dom_classes": [],
            "_model_module": "@jupyter-widgets/controls",
            "_model_module_version": "1.5.0",
            "_model_name": "FloatTextModel",
            "_view_count": null,
            "_view_module": "@jupyter-widgets/controls",
            "_view_module_version": "1.5.0",
            "_view_name": "FloatTextView",
            "continuous_update": false,
            "description": "s7:",
            "description_tooltip": null,
            "disabled": false,
            "layout": "IPY_MODEL_d6231ac1932e4f26a512615650c71615",
            "step": null,
            "style": "IPY_MODEL_17702e1f178a41c8a20982749c910ae2",
            "value": 2840
          }
        },
        "d6231ac1932e4f26a512615650c71615": {
          "model_module": "@jupyter-widgets/base",
          "model_name": "LayoutModel",
          "model_module_version": "1.2.0",
          "state": {
            "_model_module": "@jupyter-widgets/base",
            "_model_module_version": "1.2.0",
            "_model_name": "LayoutModel",
            "_view_count": null,
            "_view_module": "@jupyter-widgets/base",
            "_view_module_version": "1.2.0",
            "_view_name": "LayoutView",
            "align_content": null,
            "align_items": null,
            "align_self": null,
            "border": null,
            "bottom": null,
            "display": null,
            "flex": null,
            "flex_flow": null,
            "grid_area": null,
            "grid_auto_columns": null,
            "grid_auto_flow": null,
            "grid_auto_rows": null,
            "grid_column": null,
            "grid_gap": null,
            "grid_row": null,
            "grid_template_areas": null,
            "grid_template_columns": null,
            "grid_template_rows": null,
            "height": null,
            "justify_content": null,
            "justify_items": null,
            "left": null,
            "margin": null,
            "max_height": null,
            "max_width": null,
            "min_height": null,
            "min_width": null,
            "object_fit": null,
            "object_position": null,
            "order": null,
            "overflow": null,
            "overflow_x": null,
            "overflow_y": null,
            "padding": null,
            "right": null,
            "top": null,
            "visibility": null,
            "width": null
          }
        },
        "17702e1f178a41c8a20982749c910ae2": {
          "model_module": "@jupyter-widgets/controls",
          "model_name": "DescriptionStyleModel",
          "model_module_version": "1.5.0",
          "state": {
            "_model_module": "@jupyter-widgets/controls",
            "_model_module_version": "1.5.0",
            "_model_name": "DescriptionStyleModel",
            "_view_count": null,
            "_view_module": "@jupyter-widgets/base",
            "_view_module_version": "1.2.0",
            "_view_name": "StyleView",
            "description_width": ""
          }
        },
        "ec8e1293a77847f7a28d5bc6e28b0b74": {
          "model_module": "@jupyter-widgets/controls",
          "model_name": "FloatTextModel",
          "model_module_version": "1.5.0",
          "state": {
            "_dom_classes": [],
            "_model_module": "@jupyter-widgets/controls",
            "_model_module_version": "1.5.0",
            "_model_name": "FloatTextModel",
            "_view_count": null,
            "_view_module": "@jupyter-widgets/controls",
            "_view_module_version": "1.5.0",
            "_view_name": "FloatTextView",
            "continuous_update": false,
            "description": "s8:",
            "description_tooltip": null,
            "disabled": false,
            "layout": "IPY_MODEL_ca15b8bb08104815a5961068626e74bc",
            "step": null,
            "style": "IPY_MODEL_908d44bf17fe48d3a32bae9e4e1a0f4b",
            "value": 203920
          }
        },
        "ca15b8bb08104815a5961068626e74bc": {
          "model_module": "@jupyter-widgets/base",
          "model_name": "LayoutModel",
          "model_module_version": "1.2.0",
          "state": {
            "_model_module": "@jupyter-widgets/base",
            "_model_module_version": "1.2.0",
            "_model_name": "LayoutModel",
            "_view_count": null,
            "_view_module": "@jupyter-widgets/base",
            "_view_module_version": "1.2.0",
            "_view_name": "LayoutView",
            "align_content": null,
            "align_items": null,
            "align_self": null,
            "border": null,
            "bottom": null,
            "display": null,
            "flex": null,
            "flex_flow": null,
            "grid_area": null,
            "grid_auto_columns": null,
            "grid_auto_flow": null,
            "grid_auto_rows": null,
            "grid_column": null,
            "grid_gap": null,
            "grid_row": null,
            "grid_template_areas": null,
            "grid_template_columns": null,
            "grid_template_rows": null,
            "height": null,
            "justify_content": null,
            "justify_items": null,
            "left": null,
            "margin": null,
            "max_height": null,
            "max_width": null,
            "min_height": null,
            "min_width": null,
            "object_fit": null,
            "object_position": null,
            "order": null,
            "overflow": null,
            "overflow_x": null,
            "overflow_y": null,
            "padding": null,
            "right": null,
            "top": null,
            "visibility": null,
            "width": null
          }
        },
        "908d44bf17fe48d3a32bae9e4e1a0f4b": {
          "model_module": "@jupyter-widgets/controls",
          "model_name": "DescriptionStyleModel",
          "model_module_version": "1.5.0",
          "state": {
            "_model_module": "@jupyter-widgets/controls",
            "_model_module_version": "1.5.0",
            "_model_name": "DescriptionStyleModel",
            "_view_count": null,
            "_view_module": "@jupyter-widgets/base",
            "_view_module_version": "1.2.0",
            "_view_name": "StyleView",
            "description_width": ""
          }
        },
        "b19b19bda9f943a8bbd0002dec42e5ab": {
          "model_module": "@jupyter-widgets/controls",
          "model_name": "FloatTextModel",
          "model_module_version": "1.5.0",
          "state": {
            "_dom_classes": [],
            "_model_module": "@jupyter-widgets/controls",
            "_model_module_version": "1.5.0",
            "_model_name": "FloatTextModel",
            "_view_count": null,
            "_view_module": "@jupyter-widgets/controls",
            "_view_module_version": "1.5.0",
            "_view_name": "FloatTextView",
            "continuous_update": false,
            "description": "s9:",
            "description_tooltip": null,
            "disabled": false,
            "layout": "IPY_MODEL_465900f74f8b4535b080ea5985588161",
            "step": null,
            "style": "IPY_MODEL_6138f7abfa6d4e4fbf2ec7b5462f208a",
            "value": 334248
          }
        },
        "465900f74f8b4535b080ea5985588161": {
          "model_module": "@jupyter-widgets/base",
          "model_name": "LayoutModel",
          "model_module_version": "1.2.0",
          "state": {
            "_model_module": "@jupyter-widgets/base",
            "_model_module_version": "1.2.0",
            "_model_name": "LayoutModel",
            "_view_count": null,
            "_view_module": "@jupyter-widgets/base",
            "_view_module_version": "1.2.0",
            "_view_name": "LayoutView",
            "align_content": null,
            "align_items": null,
            "align_self": null,
            "border": null,
            "bottom": null,
            "display": null,
            "flex": null,
            "flex_flow": null,
            "grid_area": null,
            "grid_auto_columns": null,
            "grid_auto_flow": null,
            "grid_auto_rows": null,
            "grid_column": null,
            "grid_gap": null,
            "grid_row": null,
            "grid_template_areas": null,
            "grid_template_columns": null,
            "grid_template_rows": null,
            "height": null,
            "justify_content": null,
            "justify_items": null,
            "left": null,
            "margin": null,
            "max_height": null,
            "max_width": null,
            "min_height": null,
            "min_width": null,
            "object_fit": null,
            "object_position": null,
            "order": null,
            "overflow": null,
            "overflow_x": null,
            "overflow_y": null,
            "padding": null,
            "right": null,
            "top": null,
            "visibility": null,
            "width": null
          }
        },
        "6138f7abfa6d4e4fbf2ec7b5462f208a": {
          "model_module": "@jupyter-widgets/controls",
          "model_name": "DescriptionStyleModel",
          "model_module_version": "1.5.0",
          "state": {
            "_model_module": "@jupyter-widgets/controls",
            "_model_module_version": "1.5.0",
            "_model_name": "DescriptionStyleModel",
            "_view_count": null,
            "_view_module": "@jupyter-widgets/base",
            "_view_module_version": "1.2.0",
            "_view_name": "StyleView",
            "description_width": ""
          }
        },
        "60f29839ef71465ca39724e5fd0f28d2": {
          "model_module": "@jupyter-widgets/controls",
          "model_name": "FloatTextModel",
          "model_module_version": "1.5.0",
          "state": {
            "_dom_classes": [],
            "_model_module": "@jupyter-widgets/controls",
            "_model_module_version": "1.5.0",
            "_model_name": "FloatTextModel",
            "_view_count": null,
            "_view_module": "@jupyter-widgets/controls",
            "_view_module_version": "1.5.0",
            "_view_name": "FloatTextView",
            "continuous_update": false,
            "description": "s10:",
            "description_tooltip": null,
            "disabled": false,
            "layout": "IPY_MODEL_e1a8af7e810e4da2a7563556bedb1c78",
            "step": null,
            "style": "IPY_MODEL_0cae162cb2944128905c13c87e59977b",
            "value": 434709
          }
        },
        "e1a8af7e810e4da2a7563556bedb1c78": {
          "model_module": "@jupyter-widgets/base",
          "model_name": "LayoutModel",
          "model_module_version": "1.2.0",
          "state": {
            "_model_module": "@jupyter-widgets/base",
            "_model_module_version": "1.2.0",
            "_model_name": "LayoutModel",
            "_view_count": null,
            "_view_module": "@jupyter-widgets/base",
            "_view_module_version": "1.2.0",
            "_view_name": "LayoutView",
            "align_content": null,
            "align_items": null,
            "align_self": null,
            "border": null,
            "bottom": null,
            "display": null,
            "flex": null,
            "flex_flow": null,
            "grid_area": null,
            "grid_auto_columns": null,
            "grid_auto_flow": null,
            "grid_auto_rows": null,
            "grid_column": null,
            "grid_gap": null,
            "grid_row": null,
            "grid_template_areas": null,
            "grid_template_columns": null,
            "grid_template_rows": null,
            "height": null,
            "justify_content": null,
            "justify_items": null,
            "left": null,
            "margin": null,
            "max_height": null,
            "max_width": null,
            "min_height": null,
            "min_width": null,
            "object_fit": null,
            "object_position": null,
            "order": null,
            "overflow": null,
            "overflow_x": null,
            "overflow_y": null,
            "padding": null,
            "right": null,
            "top": null,
            "visibility": null,
            "width": null
          }
        },
        "0cae162cb2944128905c13c87e59977b": {
          "model_module": "@jupyter-widgets/controls",
          "model_name": "DescriptionStyleModel",
          "model_module_version": "1.5.0",
          "state": {
            "_model_module": "@jupyter-widgets/controls",
            "_model_module_version": "1.5.0",
            "_model_name": "DescriptionStyleModel",
            "_view_count": null,
            "_view_module": "@jupyter-widgets/base",
            "_view_module_version": "1.2.0",
            "_view_name": "StyleView",
            "description_width": ""
          }
        },
        "3adbf6c60d6b44ab9dd79b985bdd1dae": {
          "model_module": "@jupyter-widgets/controls",
          "model_name": "FloatTextModel",
          "model_module_version": "1.5.0",
          "state": {
            "_dom_classes": [],
            "_model_module": "@jupyter-widgets/controls",
            "_model_module_version": "1.5.0",
            "_model_name": "FloatTextModel",
            "_view_count": null,
            "_view_module": "@jupyter-widgets/controls",
            "_view_module_version": "1.5.0",
            "_view_name": "FloatTextView",
            "continuous_update": false,
            "description": "s11:",
            "description_tooltip": null,
            "disabled": false,
            "layout": "IPY_MODEL_203f08484e264694b53a36bc35ee07a2",
            "step": null,
            "style": "IPY_MODEL_1bcc81c59a4c40448b280b0de874adc4",
            "value": 34300
          }
        },
        "203f08484e264694b53a36bc35ee07a2": {
          "model_module": "@jupyter-widgets/base",
          "model_name": "LayoutModel",
          "model_module_version": "1.2.0",
          "state": {
            "_model_module": "@jupyter-widgets/base",
            "_model_module_version": "1.2.0",
            "_model_name": "LayoutModel",
            "_view_count": null,
            "_view_module": "@jupyter-widgets/base",
            "_view_module_version": "1.2.0",
            "_view_name": "LayoutView",
            "align_content": null,
            "align_items": null,
            "align_self": null,
            "border": null,
            "bottom": null,
            "display": null,
            "flex": null,
            "flex_flow": null,
            "grid_area": null,
            "grid_auto_columns": null,
            "grid_auto_flow": null,
            "grid_auto_rows": null,
            "grid_column": null,
            "grid_gap": null,
            "grid_row": null,
            "grid_template_areas": null,
            "grid_template_columns": null,
            "grid_template_rows": null,
            "height": null,
            "justify_content": null,
            "justify_items": null,
            "left": null,
            "margin": null,
            "max_height": null,
            "max_width": null,
            "min_height": null,
            "min_width": null,
            "object_fit": null,
            "object_position": null,
            "order": null,
            "overflow": null,
            "overflow_x": null,
            "overflow_y": null,
            "padding": null,
            "right": null,
            "top": null,
            "visibility": null,
            "width": null
          }
        },
        "1bcc81c59a4c40448b280b0de874adc4": {
          "model_module": "@jupyter-widgets/controls",
          "model_name": "DescriptionStyleModel",
          "model_module_version": "1.5.0",
          "state": {
            "_model_module": "@jupyter-widgets/controls",
            "_model_module_version": "1.5.0",
            "_model_name": "DescriptionStyleModel",
            "_view_count": null,
            "_view_module": "@jupyter-widgets/base",
            "_view_module_version": "1.2.0",
            "_view_name": "StyleView",
            "description_width": ""
          }
        },
        "c3bc6b30622640fbb4ca382d84b31710": {
          "model_module": "@jupyter-widgets/controls",
          "model_name": "FloatTextModel",
          "model_module_version": "1.5.0",
          "state": {
            "_dom_classes": [],
            "_model_module": "@jupyter-widgets/controls",
            "_model_module_version": "1.5.0",
            "_model_name": "FloatTextModel",
            "_view_count": null,
            "_view_module": "@jupyter-widgets/controls",
            "_view_module_version": "1.5.0",
            "_view_name": "FloatTextView",
            "continuous_update": false,
            "description": "s12:",
            "description_tooltip": null,
            "disabled": false,
            "layout": "IPY_MODEL_8e3d74bb3ed24ac08dc6430300acbca8",
            "step": null,
            "style": "IPY_MODEL_287882d8b23843478f78106a4b3fc322",
            "value": 35739
          }
        },
        "8e3d74bb3ed24ac08dc6430300acbca8": {
          "model_module": "@jupyter-widgets/base",
          "model_name": "LayoutModel",
          "model_module_version": "1.2.0",
          "state": {
            "_model_module": "@jupyter-widgets/base",
            "_model_module_version": "1.2.0",
            "_model_name": "LayoutModel",
            "_view_count": null,
            "_view_module": "@jupyter-widgets/base",
            "_view_module_version": "1.2.0",
            "_view_name": "LayoutView",
            "align_content": null,
            "align_items": null,
            "align_self": null,
            "border": null,
            "bottom": null,
            "display": null,
            "flex": null,
            "flex_flow": null,
            "grid_area": null,
            "grid_auto_columns": null,
            "grid_auto_flow": null,
            "grid_auto_rows": null,
            "grid_column": null,
            "grid_gap": null,
            "grid_row": null,
            "grid_template_areas": null,
            "grid_template_columns": null,
            "grid_template_rows": null,
            "height": null,
            "justify_content": null,
            "justify_items": null,
            "left": null,
            "margin": null,
            "max_height": null,
            "max_width": null,
            "min_height": null,
            "min_width": null,
            "object_fit": null,
            "object_position": null,
            "order": null,
            "overflow": null,
            "overflow_x": null,
            "overflow_y": null,
            "padding": null,
            "right": null,
            "top": null,
            "visibility": null,
            "width": null
          }
        },
        "287882d8b23843478f78106a4b3fc322": {
          "model_module": "@jupyter-widgets/controls",
          "model_name": "DescriptionStyleModel",
          "model_module_version": "1.5.0",
          "state": {
            "_model_module": "@jupyter-widgets/controls",
            "_model_module_version": "1.5.0",
            "_model_name": "DescriptionStyleModel",
            "_view_count": null,
            "_view_module": "@jupyter-widgets/base",
            "_view_module_version": "1.2.0",
            "_view_name": "StyleView",
            "description_width": ""
          }
        },
        "40d14e6da7d948f6900cc04751df0bff": {
          "model_module": "@jupyter-widgets/controls",
          "model_name": "FloatTextModel",
          "model_module_version": "1.5.0",
          "state": {
            "_dom_classes": [],
            "_model_module": "@jupyter-widgets/controls",
            "_model_module_version": "1.5.0",
            "_model_name": "FloatTextModel",
            "_view_count": null,
            "_view_module": "@jupyter-widgets/controls",
            "_view_module_version": "1.5.0",
            "_view_name": "FloatTextView",
            "continuous_update": false,
            "description": "s13:",
            "description_tooltip": null,
            "disabled": false,
            "layout": "IPY_MODEL_65664e3eb7484e78999a3462c5602d5a",
            "step": null,
            "style": "IPY_MODEL_ba5c8c29c96e4cdb94169f807c654af8",
            "value": 58340
          }
        },
        "65664e3eb7484e78999a3462c5602d5a": {
          "model_module": "@jupyter-widgets/base",
          "model_name": "LayoutModel",
          "model_module_version": "1.2.0",
          "state": {
            "_model_module": "@jupyter-widgets/base",
            "_model_module_version": "1.2.0",
            "_model_name": "LayoutModel",
            "_view_count": null,
            "_view_module": "@jupyter-widgets/base",
            "_view_module_version": "1.2.0",
            "_view_name": "LayoutView",
            "align_content": null,
            "align_items": null,
            "align_self": null,
            "border": null,
            "bottom": null,
            "display": null,
            "flex": null,
            "flex_flow": null,
            "grid_area": null,
            "grid_auto_columns": null,
            "grid_auto_flow": null,
            "grid_auto_rows": null,
            "grid_column": null,
            "grid_gap": null,
            "grid_row": null,
            "grid_template_areas": null,
            "grid_template_columns": null,
            "grid_template_rows": null,
            "height": null,
            "justify_content": null,
            "justify_items": null,
            "left": null,
            "margin": null,
            "max_height": null,
            "max_width": null,
            "min_height": null,
            "min_width": null,
            "object_fit": null,
            "object_position": null,
            "order": null,
            "overflow": null,
            "overflow_x": null,
            "overflow_y": null,
            "padding": null,
            "right": null,
            "top": null,
            "visibility": null,
            "width": null
          }
        },
        "ba5c8c29c96e4cdb94169f807c654af8": {
          "model_module": "@jupyter-widgets/controls",
          "model_name": "DescriptionStyleModel",
          "model_module_version": "1.5.0",
          "state": {
            "_model_module": "@jupyter-widgets/controls",
            "_model_module_version": "1.5.0",
            "_model_name": "DescriptionStyleModel",
            "_view_count": null,
            "_view_module": "@jupyter-widgets/base",
            "_view_module_version": "1.2.0",
            "_view_name": "StyleView",
            "description_width": ""
          }
        },
        "e42aed1199244548823e38d1a8bbbb9f": {
          "model_module": "@jupyter-widgets/controls",
          "model_name": "FloatTextModel",
          "model_module_version": "1.5.0",
          "state": {
            "_dom_classes": [],
            "_model_module": "@jupyter-widgets/controls",
            "_model_module_version": "1.5.0",
            "_model_name": "FloatTextModel",
            "_view_count": null,
            "_view_module": "@jupyter-widgets/controls",
            "_view_module_version": "1.5.0",
            "_view_name": "FloatTextView",
            "continuous_update": false,
            "description": "s14:",
            "description_tooltip": null,
            "disabled": false,
            "layout": "IPY_MODEL_04c7b83d95e8422abce780982c16e10a",
            "step": null,
            "style": "IPY_MODEL_6cccfb312a85440d889f446d7022d339",
            "value": 43249
          }
        },
        "04c7b83d95e8422abce780982c16e10a": {
          "model_module": "@jupyter-widgets/base",
          "model_name": "LayoutModel",
          "model_module_version": "1.2.0",
          "state": {
            "_model_module": "@jupyter-widgets/base",
            "_model_module_version": "1.2.0",
            "_model_name": "LayoutModel",
            "_view_count": null,
            "_view_module": "@jupyter-widgets/base",
            "_view_module_version": "1.2.0",
            "_view_name": "LayoutView",
            "align_content": null,
            "align_items": null,
            "align_self": null,
            "border": null,
            "bottom": null,
            "display": null,
            "flex": null,
            "flex_flow": null,
            "grid_area": null,
            "grid_auto_columns": null,
            "grid_auto_flow": null,
            "grid_auto_rows": null,
            "grid_column": null,
            "grid_gap": null,
            "grid_row": null,
            "grid_template_areas": null,
            "grid_template_columns": null,
            "grid_template_rows": null,
            "height": null,
            "justify_content": null,
            "justify_items": null,
            "left": null,
            "margin": null,
            "max_height": null,
            "max_width": null,
            "min_height": null,
            "min_width": null,
            "object_fit": null,
            "object_position": null,
            "order": null,
            "overflow": null,
            "overflow_x": null,
            "overflow_y": null,
            "padding": null,
            "right": null,
            "top": null,
            "visibility": null,
            "width": null
          }
        },
        "6cccfb312a85440d889f446d7022d339": {
          "model_module": "@jupyter-widgets/controls",
          "model_name": "DescriptionStyleModel",
          "model_module_version": "1.5.0",
          "state": {
            "_model_module": "@jupyter-widgets/controls",
            "_model_module_version": "1.5.0",
            "_model_name": "DescriptionStyleModel",
            "_view_count": null,
            "_view_module": "@jupyter-widgets/base",
            "_view_module_version": "1.2.0",
            "_view_name": "StyleView",
            "description_width": ""
          }
        },
        "b0f89565c5494af1972123874ffe89d8": {
          "model_module": "@jupyter-widgets/controls",
          "model_name": "FloatTextModel",
          "model_module_version": "1.5.0",
          "state": {
            "_dom_classes": [],
            "_model_module": "@jupyter-widgets/controls",
            "_model_module_version": "1.5.0",
            "_model_name": "FloatTextModel",
            "_view_count": null,
            "_view_module": "@jupyter-widgets/controls",
            "_view_module_version": "1.5.0",
            "_view_name": "FloatTextView",
            "continuous_update": false,
            "description": "s15:",
            "description_tooltip": null,
            "disabled": false,
            "layout": "IPY_MODEL_e609f2c18ebd4bf0b79b8d53de2af272",
            "step": null,
            "style": "IPY_MODEL_20d323a4c5ab41b3b63704fdeab438ed",
            "value": 43280
          }
        },
        "e609f2c18ebd4bf0b79b8d53de2af272": {
          "model_module": "@jupyter-widgets/base",
          "model_name": "LayoutModel",
          "model_module_version": "1.2.0",
          "state": {
            "_model_module": "@jupyter-widgets/base",
            "_model_module_version": "1.2.0",
            "_model_name": "LayoutModel",
            "_view_count": null,
            "_view_module": "@jupyter-widgets/base",
            "_view_module_version": "1.2.0",
            "_view_name": "LayoutView",
            "align_content": null,
            "align_items": null,
            "align_self": null,
            "border": null,
            "bottom": null,
            "display": null,
            "flex": null,
            "flex_flow": null,
            "grid_area": null,
            "grid_auto_columns": null,
            "grid_auto_flow": null,
            "grid_auto_rows": null,
            "grid_column": null,
            "grid_gap": null,
            "grid_row": null,
            "grid_template_areas": null,
            "grid_template_columns": null,
            "grid_template_rows": null,
            "height": null,
            "justify_content": null,
            "justify_items": null,
            "left": null,
            "margin": null,
            "max_height": null,
            "max_width": null,
            "min_height": null,
            "min_width": null,
            "object_fit": null,
            "object_position": null,
            "order": null,
            "overflow": null,
            "overflow_x": null,
            "overflow_y": null,
            "padding": null,
            "right": null,
            "top": null,
            "visibility": null,
            "width": null
          }
        },
        "20d323a4c5ab41b3b63704fdeab438ed": {
          "model_module": "@jupyter-widgets/controls",
          "model_name": "DescriptionStyleModel",
          "model_module_version": "1.5.0",
          "state": {
            "_model_module": "@jupyter-widgets/controls",
            "_model_module_version": "1.5.0",
            "_model_name": "DescriptionStyleModel",
            "_view_count": null,
            "_view_module": "@jupyter-widgets/base",
            "_view_module_version": "1.2.0",
            "_view_name": "StyleView",
            "description_width": ""
          }
        },
        "8ad10c131b9c457f896d3985c5256a80": {
          "model_module": "@jupyter-widgets/controls",
          "model_name": "FloatTextModel",
          "model_module_version": "1.5.0",
          "state": {
            "_dom_classes": [],
            "_model_module": "@jupyter-widgets/controls",
            "_model_module_version": "1.5.0",
            "_model_name": "FloatTextModel",
            "_view_count": null,
            "_view_module": "@jupyter-widgets/controls",
            "_view_module_version": "1.5.0",
            "_view_name": "FloatTextView",
            "continuous_update": false,
            "description": "s16:",
            "description_tooltip": null,
            "disabled": false,
            "layout": "IPY_MODEL_b935ec6e6fba452b899036ac2d5fc290",
            "step": null,
            "style": "IPY_MODEL_34ae6248832f4597a0bf9b77861857ee",
            "value": 98321
          }
        },
        "b935ec6e6fba452b899036ac2d5fc290": {
          "model_module": "@jupyter-widgets/base",
          "model_name": "LayoutModel",
          "model_module_version": "1.2.0",
          "state": {
            "_model_module": "@jupyter-widgets/base",
            "_model_module_version": "1.2.0",
            "_model_name": "LayoutModel",
            "_view_count": null,
            "_view_module": "@jupyter-widgets/base",
            "_view_module_version": "1.2.0",
            "_view_name": "LayoutView",
            "align_content": null,
            "align_items": null,
            "align_self": null,
            "border": null,
            "bottom": null,
            "display": null,
            "flex": null,
            "flex_flow": null,
            "grid_area": null,
            "grid_auto_columns": null,
            "grid_auto_flow": null,
            "grid_auto_rows": null,
            "grid_column": null,
            "grid_gap": null,
            "grid_row": null,
            "grid_template_areas": null,
            "grid_template_columns": null,
            "grid_template_rows": null,
            "height": null,
            "justify_content": null,
            "justify_items": null,
            "left": null,
            "margin": null,
            "max_height": null,
            "max_width": null,
            "min_height": null,
            "min_width": null,
            "object_fit": null,
            "object_position": null,
            "order": null,
            "overflow": null,
            "overflow_x": null,
            "overflow_y": null,
            "padding": null,
            "right": null,
            "top": null,
            "visibility": null,
            "width": null
          }
        },
        "34ae6248832f4597a0bf9b77861857ee": {
          "model_module": "@jupyter-widgets/controls",
          "model_name": "DescriptionStyleModel",
          "model_module_version": "1.5.0",
          "state": {
            "_model_module": "@jupyter-widgets/controls",
            "_model_module_version": "1.5.0",
            "_model_name": "DescriptionStyleModel",
            "_view_count": null,
            "_view_module": "@jupyter-widgets/base",
            "_view_module_version": "1.2.0",
            "_view_name": "StyleView",
            "description_width": ""
          }
        },
        "5a37ebf2347f47afb8d3308286684c21": {
          "model_module": "@jupyter-widgets/controls",
          "model_name": "FloatTextModel",
          "model_module_version": "1.5.0",
          "state": {
            "_dom_classes": [],
            "_model_module": "@jupyter-widgets/controls",
            "_model_module_version": "1.5.0",
            "_model_name": "FloatTextModel",
            "_view_count": null,
            "_view_module": "@jupyter-widgets/controls",
            "_view_module_version": "1.5.0",
            "_view_name": "FloatTextView",
            "continuous_update": false,
            "description": "s17:",
            "description_tooltip": null,
            "disabled": false,
            "layout": "IPY_MODEL_b8d7ddc4b3e94516b1e39ec76a84519c",
            "step": null,
            "style": "IPY_MODEL_ceadd793c6c44cb4888c4834ec41e49d",
            "value": 43532
          }
        },
        "b8d7ddc4b3e94516b1e39ec76a84519c": {
          "model_module": "@jupyter-widgets/base",
          "model_name": "LayoutModel",
          "model_module_version": "1.2.0",
          "state": {
            "_model_module": "@jupyter-widgets/base",
            "_model_module_version": "1.2.0",
            "_model_name": "LayoutModel",
            "_view_count": null,
            "_view_module": "@jupyter-widgets/base",
            "_view_module_version": "1.2.0",
            "_view_name": "LayoutView",
            "align_content": null,
            "align_items": null,
            "align_self": null,
            "border": null,
            "bottom": null,
            "display": null,
            "flex": null,
            "flex_flow": null,
            "grid_area": null,
            "grid_auto_columns": null,
            "grid_auto_flow": null,
            "grid_auto_rows": null,
            "grid_column": null,
            "grid_gap": null,
            "grid_row": null,
            "grid_template_areas": null,
            "grid_template_columns": null,
            "grid_template_rows": null,
            "height": null,
            "justify_content": null,
            "justify_items": null,
            "left": null,
            "margin": null,
            "max_height": null,
            "max_width": null,
            "min_height": null,
            "min_width": null,
            "object_fit": null,
            "object_position": null,
            "order": null,
            "overflow": null,
            "overflow_x": null,
            "overflow_y": null,
            "padding": null,
            "right": null,
            "top": null,
            "visibility": null,
            "width": null
          }
        },
        "ceadd793c6c44cb4888c4834ec41e49d": {
          "model_module": "@jupyter-widgets/controls",
          "model_name": "DescriptionStyleModel",
          "model_module_version": "1.5.0",
          "state": {
            "_model_module": "@jupyter-widgets/controls",
            "_model_module_version": "1.5.0",
            "_model_name": "DescriptionStyleModel",
            "_view_count": null,
            "_view_module": "@jupyter-widgets/base",
            "_view_module_version": "1.2.0",
            "_view_name": "StyleView",
            "description_width": ""
          }
        },
        "e735dd776a5d45cabc94623296f90714": {
          "model_module": "@jupyter-widgets/controls",
          "model_name": "FloatTextModel",
          "model_module_version": "1.5.0",
          "state": {
            "_dom_classes": [],
            "_model_module": "@jupyter-widgets/controls",
            "_model_module_version": "1.5.0",
            "_model_name": "FloatTextModel",
            "_view_count": null,
            "_view_module": "@jupyter-widgets/controls",
            "_view_module_version": "1.5.0",
            "_view_name": "FloatTextView",
            "continuous_update": false,
            "description": "s18:",
            "description_tooltip": null,
            "disabled": false,
            "layout": "IPY_MODEL_8fd9796981604daab012d9c265e32844",
            "step": null,
            "style": "IPY_MODEL_e0d3f64c2a6b45628c6ea559c8fbd980",
            "value": 45000
          }
        },
        "8fd9796981604daab012d9c265e32844": {
          "model_module": "@jupyter-widgets/base",
          "model_name": "LayoutModel",
          "model_module_version": "1.2.0",
          "state": {
            "_model_module": "@jupyter-widgets/base",
            "_model_module_version": "1.2.0",
            "_model_name": "LayoutModel",
            "_view_count": null,
            "_view_module": "@jupyter-widgets/base",
            "_view_module_version": "1.2.0",
            "_view_name": "LayoutView",
            "align_content": null,
            "align_items": null,
            "align_self": null,
            "border": null,
            "bottom": null,
            "display": null,
            "flex": null,
            "flex_flow": null,
            "grid_area": null,
            "grid_auto_columns": null,
            "grid_auto_flow": null,
            "grid_auto_rows": null,
            "grid_column": null,
            "grid_gap": null,
            "grid_row": null,
            "grid_template_areas": null,
            "grid_template_columns": null,
            "grid_template_rows": null,
            "height": null,
            "justify_content": null,
            "justify_items": null,
            "left": null,
            "margin": null,
            "max_height": null,
            "max_width": null,
            "min_height": null,
            "min_width": null,
            "object_fit": null,
            "object_position": null,
            "order": null,
            "overflow": null,
            "overflow_x": null,
            "overflow_y": null,
            "padding": null,
            "right": null,
            "top": null,
            "visibility": null,
            "width": null
          }
        },
        "e0d3f64c2a6b45628c6ea559c8fbd980": {
          "model_module": "@jupyter-widgets/controls",
          "model_name": "DescriptionStyleModel",
          "model_module_version": "1.5.0",
          "state": {
            "_model_module": "@jupyter-widgets/controls",
            "_model_module_version": "1.5.0",
            "_model_name": "DescriptionStyleModel",
            "_view_count": null,
            "_view_module": "@jupyter-widgets/base",
            "_view_module_version": "1.2.0",
            "_view_name": "StyleView",
            "description_width": ""
          }
        },
        "94af5cdb6e974ab0b9df36c6aa7265da": {
          "model_module": "@jupyter-widgets/controls",
          "model_name": "FloatTextModel",
          "model_module_version": "1.5.0",
          "state": {
            "_dom_classes": [],
            "_model_module": "@jupyter-widgets/controls",
            "_model_module_version": "1.5.0",
            "_model_name": "FloatTextModel",
            "_view_count": null,
            "_view_module": "@jupyter-widgets/controls",
            "_view_module_version": "1.5.0",
            "_view_name": "FloatTextView",
            "continuous_update": false,
            "description": "s19:",
            "description_tooltip": null,
            "disabled": false,
            "layout": "IPY_MODEL_180b357c8e6b4eec8730a51e39c7c98f",
            "step": null,
            "style": "IPY_MODEL_3f7fbd2cb5ab4f07a2a7616bf236a858",
            "value": 43900
          }
        },
        "180b357c8e6b4eec8730a51e39c7c98f": {
          "model_module": "@jupyter-widgets/base",
          "model_name": "LayoutModel",
          "model_module_version": "1.2.0",
          "state": {
            "_model_module": "@jupyter-widgets/base",
            "_model_module_version": "1.2.0",
            "_model_name": "LayoutModel",
            "_view_count": null,
            "_view_module": "@jupyter-widgets/base",
            "_view_module_version": "1.2.0",
            "_view_name": "LayoutView",
            "align_content": null,
            "align_items": null,
            "align_self": null,
            "border": null,
            "bottom": null,
            "display": null,
            "flex": null,
            "flex_flow": null,
            "grid_area": null,
            "grid_auto_columns": null,
            "grid_auto_flow": null,
            "grid_auto_rows": null,
            "grid_column": null,
            "grid_gap": null,
            "grid_row": null,
            "grid_template_areas": null,
            "grid_template_columns": null,
            "grid_template_rows": null,
            "height": null,
            "justify_content": null,
            "justify_items": null,
            "left": null,
            "margin": null,
            "max_height": null,
            "max_width": null,
            "min_height": null,
            "min_width": null,
            "object_fit": null,
            "object_position": null,
            "order": null,
            "overflow": null,
            "overflow_x": null,
            "overflow_y": null,
            "padding": null,
            "right": null,
            "top": null,
            "visibility": null,
            "width": null
          }
        },
        "3f7fbd2cb5ab4f07a2a7616bf236a858": {
          "model_module": "@jupyter-widgets/controls",
          "model_name": "DescriptionStyleModel",
          "model_module_version": "1.5.0",
          "state": {
            "_model_module": "@jupyter-widgets/controls",
            "_model_module_version": "1.5.0",
            "_model_name": "DescriptionStyleModel",
            "_view_count": null,
            "_view_module": "@jupyter-widgets/base",
            "_view_module_version": "1.2.0",
            "_view_name": "StyleView",
            "description_width": ""
          }
        },
        "98b89e90c7e142a5a9c9897626464c3b": {
          "model_module": "@jupyter-widgets/controls",
          "model_name": "FloatTextModel",
          "model_module_version": "1.5.0",
          "state": {
            "_dom_classes": [],
            "_model_module": "@jupyter-widgets/controls",
            "_model_module_version": "1.5.0",
            "_model_name": "FloatTextModel",
            "_view_count": null,
            "_view_module": "@jupyter-widgets/controls",
            "_view_module_version": "1.5.0",
            "_view_name": "FloatTextView",
            "continuous_update": false,
            "description": "s20:",
            "description_tooltip": null,
            "disabled": false,
            "layout": "IPY_MODEL_b14397ce1fda4be3805a54d4e9e511a1",
            "step": null,
            "style": "IPY_MODEL_9b80f135276c491589c2aec63300af61",
            "value": 34213
          }
        },
        "b14397ce1fda4be3805a54d4e9e511a1": {
          "model_module": "@jupyter-widgets/base",
          "model_name": "LayoutModel",
          "model_module_version": "1.2.0",
          "state": {
            "_model_module": "@jupyter-widgets/base",
            "_model_module_version": "1.2.0",
            "_model_name": "LayoutModel",
            "_view_count": null,
            "_view_module": "@jupyter-widgets/base",
            "_view_module_version": "1.2.0",
            "_view_name": "LayoutView",
            "align_content": null,
            "align_items": null,
            "align_self": null,
            "border": null,
            "bottom": null,
            "display": null,
            "flex": null,
            "flex_flow": null,
            "grid_area": null,
            "grid_auto_columns": null,
            "grid_auto_flow": null,
            "grid_auto_rows": null,
            "grid_column": null,
            "grid_gap": null,
            "grid_row": null,
            "grid_template_areas": null,
            "grid_template_columns": null,
            "grid_template_rows": null,
            "height": null,
            "justify_content": null,
            "justify_items": null,
            "left": null,
            "margin": null,
            "max_height": null,
            "max_width": null,
            "min_height": null,
            "min_width": null,
            "object_fit": null,
            "object_position": null,
            "order": null,
            "overflow": null,
            "overflow_x": null,
            "overflow_y": null,
            "padding": null,
            "right": null,
            "top": null,
            "visibility": null,
            "width": null
          }
        },
        "9b80f135276c491589c2aec63300af61": {
          "model_module": "@jupyter-widgets/controls",
          "model_name": "DescriptionStyleModel",
          "model_module_version": "1.5.0",
          "state": {
            "_model_module": "@jupyter-widgets/controls",
            "_model_module_version": "1.5.0",
            "_model_name": "DescriptionStyleModel",
            "_view_count": null,
            "_view_module": "@jupyter-widgets/base",
            "_view_module_version": "1.2.0",
            "_view_name": "StyleView",
            "description_width": ""
          }
        },
        "5416bd4ae69f4e378187fa361a51d719": {
          "model_module": "@jupyter-widgets/controls",
          "model_name": "FloatTextModel",
          "model_module_version": "1.5.0",
          "state": {
            "_dom_classes": [],
            "_model_module": "@jupyter-widgets/controls",
            "_model_module_version": "1.5.0",
            "_model_name": "FloatTextModel",
            "_view_count": null,
            "_view_module": "@jupyter-widgets/controls",
            "_view_module_version": "1.5.0",
            "_view_name": "FloatTextView",
            "continuous_update": false,
            "description": "s21:",
            "description_tooltip": null,
            "disabled": false,
            "layout": "IPY_MODEL_ed04119099464b9995ab27421c3c970d",
            "step": null,
            "style": "IPY_MODEL_192ae1b627f74d3abc67e348c4ba8674",
            "value": 1000
          }
        },
        "ed04119099464b9995ab27421c3c970d": {
          "model_module": "@jupyter-widgets/base",
          "model_name": "LayoutModel",
          "model_module_version": "1.2.0",
          "state": {
            "_model_module": "@jupyter-widgets/base",
            "_model_module_version": "1.2.0",
            "_model_name": "LayoutModel",
            "_view_count": null,
            "_view_module": "@jupyter-widgets/base",
            "_view_module_version": "1.2.0",
            "_view_name": "LayoutView",
            "align_content": null,
            "align_items": null,
            "align_self": null,
            "border": null,
            "bottom": null,
            "display": null,
            "flex": null,
            "flex_flow": null,
            "grid_area": null,
            "grid_auto_columns": null,
            "grid_auto_flow": null,
            "grid_auto_rows": null,
            "grid_column": null,
            "grid_gap": null,
            "grid_row": null,
            "grid_template_areas": null,
            "grid_template_columns": null,
            "grid_template_rows": null,
            "height": null,
            "justify_content": null,
            "justify_items": null,
            "left": null,
            "margin": null,
            "max_height": null,
            "max_width": null,
            "min_height": null,
            "min_width": null,
            "object_fit": null,
            "object_position": null,
            "order": null,
            "overflow": null,
            "overflow_x": null,
            "overflow_y": null,
            "padding": null,
            "right": null,
            "top": null,
            "visibility": null,
            "width": null
          }
        },
        "192ae1b627f74d3abc67e348c4ba8674": {
          "model_module": "@jupyter-widgets/controls",
          "model_name": "DescriptionStyleModel",
          "model_module_version": "1.5.0",
          "state": {
            "_model_module": "@jupyter-widgets/controls",
            "_model_module_version": "1.5.0",
            "_model_name": "DescriptionStyleModel",
            "_view_count": null,
            "_view_module": "@jupyter-widgets/base",
            "_view_module_version": "1.2.0",
            "_view_name": "StyleView",
            "description_width": ""
          }
        },
        "83086be59855426fb3cc48a07a0980df": {
          "model_module": "@jupyter-widgets/controls",
          "model_name": "ButtonModel",
          "model_module_version": "1.5.0",
          "state": {
            "_dom_classes": [],
            "_model_module": "@jupyter-widgets/controls",
            "_model_module_version": "1.5.0",
            "_model_name": "ButtonModel",
            "_view_count": null,
            "_view_module": "@jupyter-widgets/controls",
            "_view_module_version": "1.5.0",
            "_view_name": "ButtonView",
            "button_style": "",
            "description": "Predict",
            "disabled": false,
            "icon": "",
            "layout": "IPY_MODEL_40d84761b9564caf9ce01908da778fde",
            "style": "IPY_MODEL_a2eb3914f13e49ce8bbc1115ef428583",
            "tooltip": ""
          }
        },
        "40d84761b9564caf9ce01908da778fde": {
          "model_module": "@jupyter-widgets/base",
          "model_name": "LayoutModel",
          "model_module_version": "1.2.0",
          "state": {
            "_model_module": "@jupyter-widgets/base",
            "_model_module_version": "1.2.0",
            "_model_name": "LayoutModel",
            "_view_count": null,
            "_view_module": "@jupyter-widgets/base",
            "_view_module_version": "1.2.0",
            "_view_name": "LayoutView",
            "align_content": null,
            "align_items": null,
            "align_self": null,
            "border": null,
            "bottom": null,
            "display": null,
            "flex": null,
            "flex_flow": null,
            "grid_area": null,
            "grid_auto_columns": null,
            "grid_auto_flow": null,
            "grid_auto_rows": null,
            "grid_column": null,
            "grid_gap": null,
            "grid_row": null,
            "grid_template_areas": null,
            "grid_template_columns": null,
            "grid_template_rows": null,
            "height": null,
            "justify_content": null,
            "justify_items": null,
            "left": null,
            "margin": null,
            "max_height": null,
            "max_width": null,
            "min_height": null,
            "min_width": null,
            "object_fit": null,
            "object_position": null,
            "order": null,
            "overflow": null,
            "overflow_x": null,
            "overflow_y": null,
            "padding": null,
            "right": null,
            "top": null,
            "visibility": null,
            "width": null
          }
        },
        "a2eb3914f13e49ce8bbc1115ef428583": {
          "model_module": "@jupyter-widgets/controls",
          "model_name": "ButtonStyleModel",
          "model_module_version": "1.5.0",
          "state": {
            "_model_module": "@jupyter-widgets/controls",
            "_model_module_version": "1.5.0",
            "_model_name": "ButtonStyleModel",
            "_view_count": null,
            "_view_module": "@jupyter-widgets/base",
            "_view_module_version": "1.2.0",
            "_view_name": "StyleView",
            "button_color": null,
            "font_weight": ""
          }
        }
      }
    }
  },
  "cells": [
    {
      "cell_type": "markdown",
      "source": [
        "**1. Kita Import Untuk Persiapan Data**"
      ],
      "metadata": {
        "id": "BeSPuxj3O6hU"
      }
    },
    {
      "cell_type": "code",
      "source": [
        "import pandas as pd\n",
        "from sklearn.model_selection import train_test_split\n",
        "from sklearn.preprocessing import StandardScaler\n",
        "import numpy as np\n",
        "import tensorflow as tf\n",
        "from tensorflow.keras.models import Sequential\n",
        "from tensorflow.keras.layers import Dense\n",
        "from sklearn.metrics import mean_squared_error\n",
        "import matplotlib.pyplot as plt\n",
        "import seaborn as sns\n",
        "import ipywidgets as widgets\n",
        "from IPython.display import display"
      ],
      "metadata": {
        "id": "7sIjzWPU6RSJ"
      },
      "execution_count": 138,
      "outputs": []
    },
    {
      "cell_type": "markdown",
      "source": [
        "Mencari Data atau membuat Data set yang ada:"
      ],
      "metadata": {
        "id": "qDZJlKKbPd0I"
      }
    },
    {
      "cell_type": "code",
      "source": [
        "dataSet = pd.read_csv('/content/[Dataset]_Test_(Perawatan-Pesawat).csv')\n",
        "dataSet.shape"
      ],
      "metadata": {
        "colab": {
          "base_uri": "https://localhost:8080/"
        },
        "id": "GMpPm9TYlsND",
        "outputId": "79aec565-46e7-422e-992a-e0fbb9865f6f"
      },
      "execution_count": 139,
      "outputs": [
        {
          "output_type": "execute_result",
          "data": {
            "text/plain": [
              "(100, 71)"
            ]
          },
          "metadata": {},
          "execution_count": 139
        }
      ]
    },
    {
      "cell_type": "markdown",
      "source": [
        "Memastikan dan melihat colums sudah sesuai:"
      ],
      "metadata": {
        "id": "CSBa8l1SQ5Gy"
      }
    },
    {
      "cell_type": "code",
      "source": [
        "print(\"Columns in the dataset:\", dataSet.columns)"
      ],
      "metadata": {
        "colab": {
          "base_uri": "https://localhost:8080/"
        },
        "id": "DOD4KrgLQR0f",
        "outputId": "b880b081-a7f5-44ee-c259-09504608936f"
      },
      "execution_count": 140,
      "outputs": [
        {
          "output_type": "stream",
          "name": "stdout",
          "text": [
            "Columns in the dataset: Index(['id', 'cycle', 'setting1', 'setting2', 'setting3', 's1', 's2', 's3',\n",
            "       's4', 's5', 's6', 's7', 's8', 's9', 's10', 's11', 's12', 's13', 's14',\n",
            "       's15', 's16', 's17', 's18', 's19', 's20', 's21', 'av1', 'av2', 'av3',\n",
            "       'av4', 'av5', 'av6', 'av7', 'av8', 'av9', 'av10', 'av11', 'av12',\n",
            "       'av13', 'av14', 'av15', 'av16', 'av17', 'av18', 'av19', 'av20', 'av21',\n",
            "       'sd1', 'sd2', 'sd3', 'sd4', 'sd5', 'sd6', 'sd7', 'sd8', 'sd9', 'sd10',\n",
            "       'sd11', 'sd12', 'sd13', 'sd14', 'sd15', 'sd16', 'sd17', 'sd18', 'sd19',\n",
            "       'sd20', 'sd21', 'ttf', 'label_bnc', 'label_mcc'],\n",
            "      dtype='object')\n"
          ]
        }
      ]
    },
    {
      "cell_type": "markdown",
      "source": [
        "Mengasumsikan colomn ttf itu menunjukan Waktu Kegagalan :"
      ],
      "metadata": {
        "id": "dGt8_TCcRLcS"
      }
    },
    {
      "cell_type": "code",
      "source": [
        "target_column = 'ttf'"
      ],
      "metadata": {
        "id": "UIsD5Q4n40lj"
      },
      "execution_count": 141,
      "outputs": []
    },
    {
      "cell_type": "markdown",
      "source": [
        "Menangani Nilia yang Hilang :"
      ],
      "metadata": {
        "id": "qKfK1G92Rrhg"
      }
    },
    {
      "cell_type": "code",
      "source": [
        "dataSet.fillna(method='ffill', inplace=True)"
      ],
      "metadata": {
        "id": "be7A_eKh45a3"
      },
      "execution_count": 142,
      "outputs": []
    },
    {
      "cell_type": "code",
      "source": [
        "# Define feature columns\n",
        "feature_columns = ['cycle', 'setting1', 'setting2', 'setting3'] + [f's{i}' for i in range(1, 22)]"
      ],
      "metadata": {
        "id": "mymYLVj0ms0Z"
      },
      "execution_count": 143,
      "outputs": []
    },
    {
      "cell_type": "code",
      "source": [
        "# Store feature column names for later use\n",
        "stored_feature_columns = feature_columns.copy()"
      ],
      "metadata": {
        "id": "0_mBxf59m0pS"
      },
      "execution_count": 144,
      "outputs": []
    },
    {
      "cell_type": "code",
      "source": [
        "# Print feature columns used during training\n",
        "print(\"Feature columns used during training:\", stored_feature_columns)"
      ],
      "metadata": {
        "colab": {
          "base_uri": "https://localhost:8080/"
        },
        "id": "vP6ab_mwpMrr",
        "outputId": "e0996fe4-60be-429c-b5ff-3d56ce318c24"
      },
      "execution_count": 145,
      "outputs": [
        {
          "output_type": "stream",
          "name": "stdout",
          "text": [
            "Feature columns used during training: ['cycle', 'setting1', 'setting2', 'setting3', 's1', 's2', 's3', 's4', 's5', 's6', 's7', 's8', 's9', 's10', 's11', 's12', 's13', 's14', 's15', 's16', 's17', 's18', 's19', 's20', 's21']\n"
          ]
        }
      ]
    },
    {
      "cell_type": "code",
      "source": [
        "missing_columns = [col for col in feature_columns if col not in dataSet.columns]\n",
        "if missing_columns:\n",
        "    print(f\"Missing columns in dataset: {missing_columns}\")\n",
        "else:\n",
        "    print(\"All feature columns are present in the dataset.\")"
      ],
      "metadata": {
        "colab": {
          "base_uri": "https://localhost:8080/"
        },
        "id": "o765EAjNqYwl",
        "outputId": "dba79bc6-9f9f-4aa8-dab7-a58ae80d77a8"
      },
      "execution_count": 146,
      "outputs": [
        {
          "output_type": "stream",
          "name": "stdout",
          "text": [
            "All feature columns are present in the dataset.\n"
          ]
        }
      ]
    },
    {
      "cell_type": "markdown",
      "source": [
        "Menerapkan Fitur atau penskalaan fitur:"
      ],
      "metadata": {
        "id": "bMjDf922SDFM"
      }
    },
    {
      "cell_type": "code",
      "source": [
        "scaler = StandardScaler()\n",
        "data_scaled = scaler.fit_transform(dataSet[feature_columns])"
      ],
      "metadata": {
        "id": "iur5IjFD4_nf"
      },
      "execution_count": 147,
      "outputs": []
    },
    {
      "cell_type": "markdown",
      "source": [
        "Pemisahaan Data:"
      ],
      "metadata": {
        "id": "PZBQ92y_SsLe"
      }
    },
    {
      "cell_type": "code",
      "source": [
        "X_train, X_test, y_train, y_test = train_test_split(data_scaled, dataSet[target_column], test_size=0.2, random_state=42)"
      ],
      "metadata": {
        "id": "z8NTDAuR5EnW"
      },
      "execution_count": 150,
      "outputs": []
    },
    {
      "cell_type": "markdown",
      "source": [
        "Mengubah Target menjadi Numpy:"
      ],
      "metadata": {
        "id": "aa4TjE3ASxYM"
      }
    },
    {
      "cell_type": "code",
      "source": [
        "y_train = np.array(y_train)\n",
        "y_test = np.array(y_test)"
      ],
      "metadata": {
        "id": "kv6aG1wj5MoD"
      },
      "execution_count": 151,
      "outputs": []
    },
    {
      "cell_type": "markdown",
      "source": [
        "# 2. Membuat Model Deep Learning"
      ],
      "metadata": {
        "id": "lxyfcC1WTkb2"
      }
    },
    {
      "cell_type": "markdown",
      "source": [
        "Membuat Model"
      ],
      "metadata": {
        "id": "PupX_XHxV8zK"
      }
    },
    {
      "cell_type": "code",
      "source": [
        "model = Sequential()\n",
        "model.add(Dense(64, input_dim=X_train.shape[1], activation='relu'))\n",
        "model.add(Dense(32, activation='relu'))\n",
        "model.add(Dense(1, activation='linear'))"
      ],
      "metadata": {
        "id": "lL4QH17G6zA2"
      },
      "execution_count": 152,
      "outputs": []
    },
    {
      "cell_type": "markdown",
      "source": [
        "Menyusun Model"
      ],
      "metadata": {
        "id": "Evp00QgqWuDP"
      }
    },
    {
      "cell_type": "code",
      "source": [
        "model.compile(loss='mean_squared_error', optimizer='adam', metrics=['mean_squared_error'])"
      ],
      "metadata": {
        "id": "Fu_lupUX62UK"
      },
      "execution_count": 153,
      "outputs": []
    },
    {
      "cell_type": "markdown",
      "source": [
        "Melatih Model"
      ],
      "metadata": {
        "id": "AVHM3ZjVWzLQ"
      }
    },
    {
      "cell_type": "code",
      "source": [
        "history = model.fit(X_train, y_train, epochs=50, batch_size=10, validation_split=0.2)"
      ],
      "metadata": {
        "colab": {
          "base_uri": "https://localhost:8080/"
        },
        "id": "5AT76-XK67Z5",
        "outputId": "8ea24927-4f33-457a-b8fb-5f38657fdf95"
      },
      "execution_count": 154,
      "outputs": [
        {
          "output_type": "stream",
          "name": "stdout",
          "text": [
            "Epoch 1/50\n",
            "7/7 [==============================] - 1s 34ms/step - loss: 7814.4521 - mean_squared_error: 7814.4521 - val_loss: 6671.0942 - val_mean_squared_error: 6671.0942\n",
            "Epoch 2/50\n",
            "7/7 [==============================] - 0s 7ms/step - loss: 7751.0781 - mean_squared_error: 7751.0781 - val_loss: 6604.0332 - val_mean_squared_error: 6604.0332\n",
            "Epoch 3/50\n",
            "7/7 [==============================] - 0s 10ms/step - loss: 7685.6650 - mean_squared_error: 7685.6650 - val_loss: 6533.8730 - val_mean_squared_error: 6533.8730\n",
            "Epoch 4/50\n",
            "7/7 [==============================] - 0s 7ms/step - loss: 7609.7856 - mean_squared_error: 7609.7856 - val_loss: 6450.1216 - val_mean_squared_error: 6450.1216\n",
            "Epoch 5/50\n",
            "7/7 [==============================] - 0s 10ms/step - loss: 7515.9409 - mean_squared_error: 7515.9409 - val_loss: 6347.4868 - val_mean_squared_error: 6347.4868\n",
            "Epoch 6/50\n",
            "7/7 [==============================] - 0s 7ms/step - loss: 7405.5273 - mean_squared_error: 7405.5273 - val_loss: 6218.3569 - val_mean_squared_error: 6218.3569\n",
            "Epoch 7/50\n",
            "7/7 [==============================] - 0s 7ms/step - loss: 7263.8188 - mean_squared_error: 7263.8188 - val_loss: 6057.3418 - val_mean_squared_error: 6057.3418\n",
            "Epoch 8/50\n",
            "7/7 [==============================] - 0s 10ms/step - loss: 7085.0479 - mean_squared_error: 7085.0474 - val_loss: 5858.5093 - val_mean_squared_error: 5858.5093\n",
            "Epoch 9/50\n",
            "7/7 [==============================] - 0s 7ms/step - loss: 6879.1470 - mean_squared_error: 6879.1470 - val_loss: 5608.8120 - val_mean_squared_error: 5608.8120\n",
            "Epoch 10/50\n",
            "7/7 [==============================] - 0s 7ms/step - loss: 6601.5972 - mean_squared_error: 6601.5972 - val_loss: 5316.5957 - val_mean_squared_error: 5316.5957\n",
            "Epoch 11/50\n",
            "7/7 [==============================] - 0s 10ms/step - loss: 6297.5889 - mean_squared_error: 6297.5889 - val_loss: 4963.9897 - val_mean_squared_error: 4963.9897\n",
            "Epoch 12/50\n",
            "7/7 [==============================] - 0s 8ms/step - loss: 5917.2354 - mean_squared_error: 5917.2344 - val_loss: 4564.8926 - val_mean_squared_error: 4564.8926\n",
            "Epoch 13/50\n",
            "7/7 [==============================] - 0s 7ms/step - loss: 5483.3330 - mean_squared_error: 5483.3335 - val_loss: 4112.8633 - val_mean_squared_error: 4112.8633\n",
            "Epoch 14/50\n",
            "7/7 [==============================] - 0s 7ms/step - loss: 5002.5708 - mean_squared_error: 5002.5708 - val_loss: 3623.9380 - val_mean_squared_error: 3623.9380\n",
            "Epoch 15/50\n",
            "7/7 [==============================] - 0s 7ms/step - loss: 4467.5938 - mean_squared_error: 4467.5938 - val_loss: 3145.8364 - val_mean_squared_error: 3145.8364\n",
            "Epoch 16/50\n",
            "7/7 [==============================] - 0s 10ms/step - loss: 3978.2358 - mean_squared_error: 3978.2358 - val_loss: 2649.8987 - val_mean_squared_error: 2649.8987\n",
            "Epoch 17/50\n",
            "7/7 [==============================] - 0s 10ms/step - loss: 3469.4387 - mean_squared_error: 3469.4387 - val_loss: 2192.2773 - val_mean_squared_error: 2192.2773\n",
            "Epoch 18/50\n",
            "7/7 [==============================] - 0s 9ms/step - loss: 2952.6719 - mean_squared_error: 2952.6719 - val_loss: 1816.8804 - val_mean_squared_error: 1816.8804\n",
            "Epoch 19/50\n",
            "7/7 [==============================] - 0s 7ms/step - loss: 2545.6567 - mean_squared_error: 2545.6567 - val_loss: 1526.0503 - val_mean_squared_error: 1526.0503\n",
            "Epoch 20/50\n",
            "7/7 [==============================] - 0s 10ms/step - loss: 2194.7454 - mean_squared_error: 2194.7454 - val_loss: 1343.4453 - val_mean_squared_error: 1343.4453\n",
            "Epoch 21/50\n",
            "7/7 [==============================] - 0s 10ms/step - loss: 1926.6791 - mean_squared_error: 1926.6791 - val_loss: 1257.4857 - val_mean_squared_error: 1257.4857\n",
            "Epoch 22/50\n",
            "7/7 [==============================] - 0s 10ms/step - loss: 1746.8721 - mean_squared_error: 1746.8721 - val_loss: 1239.3192 - val_mean_squared_error: 1239.3192\n",
            "Epoch 23/50\n",
            "7/7 [==============================] - 0s 10ms/step - loss: 1634.8854 - mean_squared_error: 1634.8854 - val_loss: 1251.8191 - val_mean_squared_error: 1251.8191\n",
            "Epoch 24/50\n",
            "7/7 [==============================] - 0s 10ms/step - loss: 1566.1289 - mean_squared_error: 1566.1289 - val_loss: 1271.4221 - val_mean_squared_error: 1271.4221\n",
            "Epoch 25/50\n",
            "7/7 [==============================] - 0s 7ms/step - loss: 1510.5231 - mean_squared_error: 1510.5231 - val_loss: 1291.2686 - val_mean_squared_error: 1291.2686\n",
            "Epoch 26/50\n",
            "7/7 [==============================] - 0s 8ms/step - loss: 1450.9003 - mean_squared_error: 1450.9003 - val_loss: 1270.3893 - val_mean_squared_error: 1270.3893\n",
            "Epoch 27/50\n",
            "7/7 [==============================] - 0s 10ms/step - loss: 1391.3572 - mean_squared_error: 1391.3572 - val_loss: 1237.8715 - val_mean_squared_error: 1237.8715\n",
            "Epoch 28/50\n",
            "7/7 [==============================] - 0s 12ms/step - loss: 1336.9957 - mean_squared_error: 1336.9957 - val_loss: 1196.4835 - val_mean_squared_error: 1196.4835\n",
            "Epoch 29/50\n",
            "7/7 [==============================] - 0s 12ms/step - loss: 1283.5642 - mean_squared_error: 1283.5642 - val_loss: 1169.8015 - val_mean_squared_error: 1169.8015\n",
            "Epoch 30/50\n",
            "7/7 [==============================] - 0s 15ms/step - loss: 1229.9089 - mean_squared_error: 1229.9089 - val_loss: 1139.1891 - val_mean_squared_error: 1139.1891\n",
            "Epoch 31/50\n",
            "7/7 [==============================] - 0s 13ms/step - loss: 1182.9537 - mean_squared_error: 1182.9537 - val_loss: 1131.1643 - val_mean_squared_error: 1131.1643\n",
            "Epoch 32/50\n",
            "7/7 [==============================] - 0s 14ms/step - loss: 1137.1428 - mean_squared_error: 1137.1428 - val_loss: 1115.4395 - val_mean_squared_error: 1115.4395\n",
            "Epoch 33/50\n",
            "7/7 [==============================] - 0s 10ms/step - loss: 1097.1085 - mean_squared_error: 1097.1085 - val_loss: 1115.8048 - val_mean_squared_error: 1115.8048\n",
            "Epoch 34/50\n",
            "7/7 [==============================] - 0s 11ms/step - loss: 1049.0403 - mean_squared_error: 1049.0403 - val_loss: 1082.9562 - val_mean_squared_error: 1082.9562\n",
            "Epoch 35/50\n",
            "7/7 [==============================] - 0s 12ms/step - loss: 1006.0623 - mean_squared_error: 1006.0623 - val_loss: 1069.8778 - val_mean_squared_error: 1069.8778\n",
            "Epoch 36/50\n",
            "7/7 [==============================] - 0s 12ms/step - loss: 970.2722 - mean_squared_error: 970.2722 - val_loss: 1053.6997 - val_mean_squared_error: 1053.6997\n",
            "Epoch 37/50\n",
            "7/7 [==============================] - 0s 10ms/step - loss: 929.3677 - mean_squared_error: 929.3677 - val_loss: 1043.9301 - val_mean_squared_error: 1043.9301\n",
            "Epoch 38/50\n",
            "7/7 [==============================] - 0s 12ms/step - loss: 898.5526 - mean_squared_error: 898.5526 - val_loss: 1049.4877 - val_mean_squared_error: 1049.4877\n",
            "Epoch 39/50\n",
            "7/7 [==============================] - 0s 10ms/step - loss: 857.5593 - mean_squared_error: 857.5593 - val_loss: 1018.1755 - val_mean_squared_error: 1018.1755\n",
            "Epoch 40/50\n",
            "7/7 [==============================] - 0s 11ms/step - loss: 825.4385 - mean_squared_error: 825.4385 - val_loss: 991.2759 - val_mean_squared_error: 991.2759\n",
            "Epoch 41/50\n",
            "7/7 [==============================] - 0s 13ms/step - loss: 804.0829 - mean_squared_error: 804.0829 - val_loss: 986.6514 - val_mean_squared_error: 986.6514\n",
            "Epoch 42/50\n",
            "7/7 [==============================] - 0s 10ms/step - loss: 768.9910 - mean_squared_error: 768.9910 - val_loss: 956.3985 - val_mean_squared_error: 956.3985\n",
            "Epoch 43/50\n",
            "7/7 [==============================] - 0s 10ms/step - loss: 742.7940 - mean_squared_error: 742.7940 - val_loss: 946.2114 - val_mean_squared_error: 946.2114\n",
            "Epoch 44/50\n",
            "7/7 [==============================] - 0s 10ms/step - loss: 719.2933 - mean_squared_error: 719.2933 - val_loss: 931.8180 - val_mean_squared_error: 931.8180\n",
            "Epoch 45/50\n",
            "7/7 [==============================] - 0s 13ms/step - loss: 695.8619 - mean_squared_error: 695.8619 - val_loss: 911.2226 - val_mean_squared_error: 911.2227\n",
            "Epoch 46/50\n",
            "7/7 [==============================] - 0s 12ms/step - loss: 673.8894 - mean_squared_error: 673.8894 - val_loss: 897.2624 - val_mean_squared_error: 897.2625\n",
            "Epoch 47/50\n",
            "7/7 [==============================] - 0s 12ms/step - loss: 649.7770 - mean_squared_error: 649.7770 - val_loss: 880.7052 - val_mean_squared_error: 880.7052\n",
            "Epoch 48/50\n",
            "7/7 [==============================] - 0s 13ms/step - loss: 629.5097 - mean_squared_error: 629.5097 - val_loss: 879.6270 - val_mean_squared_error: 879.6270\n",
            "Epoch 49/50\n",
            "7/7 [==============================] - 0s 14ms/step - loss: 609.6356 - mean_squared_error: 609.6356 - val_loss: 883.4892 - val_mean_squared_error: 883.4891\n",
            "Epoch 50/50\n",
            "7/7 [==============================] - 0s 13ms/step - loss: 589.4355 - mean_squared_error: 589.4355 - val_loss: 871.5918 - val_mean_squared_error: 871.5918\n"
          ]
        }
      ]
    },
    {
      "cell_type": "markdown",
      "source": [
        "# 3. Evaluasi Model"
      ],
      "metadata": {
        "id": "BCc64HWPXBxU"
      }
    },
    {
      "cell_type": "markdown",
      "source": [
        "Evaluasi kinerja model pada dataset"
      ],
      "metadata": {
        "id": "556M0QidXSfr"
      }
    },
    {
      "cell_type": "code",
      "source": [
        "y_pred = model.predict(X_test)"
      ],
      "metadata": {
        "colab": {
          "base_uri": "https://localhost:8080/"
        },
        "id": "QpNNYsyi6_lt",
        "outputId": "5684d076-92ab-4c41-d29d-15a8d8572c17"
      },
      "execution_count": 155,
      "outputs": [
        {
          "output_type": "stream",
          "name": "stderr",
          "text": [
            "WARNING:tensorflow:5 out of the last 6 calls to <function Model.make_predict_function.<locals>.predict_function at 0x7bedeb0a97e0> triggered tf.function retracing. Tracing is expensive and the excessive number of tracings could be due to (1) creating @tf.function repeatedly in a loop, (2) passing tensors with different shapes, (3) passing Python objects instead of tensors. For (1), please define your @tf.function outside of the loop. For (2), @tf.function has reduce_retracing=True option that can avoid unnecessary retracing. For (3), please refer to https://www.tensorflow.org/guide/function#controlling_retracing and https://www.tensorflow.org/api_docs/python/tf/function for  more details.\n"
          ]
        },
        {
          "output_type": "stream",
          "name": "stdout",
          "text": [
            "1/1 [==============================] - 0s 92ms/step\n"
          ]
        }
      ]
    },
    {
      "cell_type": "markdown",
      "source": [
        "Kesalahan Kuadrat"
      ],
      "metadata": {
        "id": "5SK6hc23Xav7"
      }
    },
    {
      "cell_type": "code",
      "source": [
        "mse = mean_squared_error(y_test, y_pred)\n",
        "\n",
        "print(f\"Mean Squared Error: {mse}\")"
      ],
      "metadata": {
        "colab": {
          "base_uri": "https://localhost:8080/"
        },
        "id": "KS-fNGHh8E-x",
        "outputId": "5ddc375d-79d9-46f8-f786-e0ba04cfe4eb"
      },
      "execution_count": 156,
      "outputs": [
        {
          "output_type": "stream",
          "name": "stdout",
          "text": [
            "Mean Squared Error: 1542.4815450122098\n"
          ]
        }
      ]
    },
    {
      "cell_type": "markdown",
      "source": [
        "Perdiksi Antara plot dengan Sebenernya"
      ],
      "metadata": {
        "id": "0gvxrapJXtNf"
      }
    },
    {
      "cell_type": "code",
      "source": [
        "plt.figure(figsize=(10,7))\n",
        "plt.scatter(y_test, y_pred)\n",
        "plt.xlabel('Actual TTF')\n",
        "plt.ylabel('Predicted TTF')\n",
        "plt.title('Actual vs Predicted TTF')\n",
        "plt.show()"
      ],
      "metadata": {
        "colab": {
          "base_uri": "https://localhost:8080/",
          "height": 641
        },
        "id": "X3x3_82n8JdR",
        "outputId": "b635b523-2308-4b78-b01f-471bc2a8aa78"
      },
      "execution_count": 157,
      "outputs": [
        {
          "output_type": "display_data",
          "data": {
            "text/plain": [
              "<Figure size 1000x700 with 1 Axes>"
            ],
            "image/png": "[encoded data removed]"
          },
          "metadata": {}
        }
      ]
    },
    {
      "cell_type": "markdown",
      "source": [
        "# 4. Visualisai Hasil"
      ],
      "metadata": {
        "id": "eKC73kmPYnrC"
      }
    },
    {
      "cell_type": "markdown",
      "source": [
        "Nilai MSE pelatihan dan Validasi nya"
      ],
      "metadata": {
        "id": "YKIHcpDyYWO5"
      }
    },
    {
      "cell_type": "code",
      "source": [
        "plt.figure(figsize=(10,7))\n",
        "plt.plot(history.history['mean_squared_error'])\n",
        "plt.plot(history.history['val_mean_squared_error'])\n",
        "plt.title('Model MSE')\n",
        "plt.ylabel('MSE')\n",
        "plt.xlabel('Epoch')\n",
        "plt.legend(['Train', 'Validation'], loc='upper left')\n",
        "plt.show()"
      ],
      "metadata": {
        "colab": {
          "base_uri": "https://localhost:8080/",
          "height": 641
        },
        "id": "Qlb3RA7N8N1H",
        "outputId": "dba75271-7a51-4ab8-d359-f9541e09e3f8"
      },
      "execution_count": 158,
      "outputs": [
        {
          "output_type": "display_data",
          "data": {
            "text/plain": [
              "<Figure size 1000x700 with 1 Axes>"
            ],
            "image/png": "[encoded data removed]"
          },
          "metadata": {}
        }
      ]
    },
    {
      "cell_type": "markdown",
      "source": [
        "Nilai kerugian Pelatihan dan Validasi"
      ],
      "metadata": {
        "id": "SaTjswwOY35m"
      }
    },
    {
      "cell_type": "code",
      "source": [
        "plt.figure(figsize=(10,7))\n",
        "plt.plot(history.history['loss'])\n",
        "plt.plot(history.history['val_loss'])\n",
        "plt.title('Model Loss')\n",
        "plt.ylabel('Loss')\n",
        "plt.xlabel('Epoch')\n",
        "plt.legend(['Train', 'Validation'], loc='upper left')\n",
        "plt.show()"
      ],
      "metadata": {
        "colab": {
          "base_uri": "https://localhost:8080/",
          "height": 641
        },
        "id": "NtHaAhlrYnQU",
        "outputId": "0e382a61-701d-48cd-a2d7-324a60b8a6c2"
      },
      "execution_count": 159,
      "outputs": [
        {
          "output_type": "display_data",
          "data": {
            "text/plain": [
              "<Figure size 1000x700 with 1 Axes>"
            ],
            "image/png": "[encoded data removed]"
          },
          "metadata": {}
        }
      ]
    },
    {
      "cell_type": "markdown",
      "source": [
        "# 5.Antarmuka Pengguna untuk Prediksi"
      ],
      "metadata": {
        "id": "yiyRllCQb6U2"
      }
    },
    {
      "cell_type": "markdown",
      "source": [
        "Fungsi untuk melakukan prediksi berdasarkan input pengguna"
      ],
      "metadata": {
        "id": "kCnlN3CccHFm"
      }
    },
    {
      "cell_type": "code",
      "source": [
        "def predict_maintenance(engine_id, cycle, op_setting1, op_setting2, op_setting3, s1, s2, s3, s4, s5, s6, s7, s8, s9, s10, s11, s12, s13, s14, s15, s16, s17, s18, s19, s20, s21):\n",
        "    # Membuat DataFrame dari input\n",
        "    input_data = pd.DataFrame({\n",
        "        'cycle': [cycle],\n",
        "        'op_setting1': [op_setting1],\n",
        "        'op_setting2': [op_setting2],\n",
        "        'op_setting3': [op_setting3],\n",
        "        's1': [s1], 's2': [s2], 's3': [s3], 's4': [s4], 's5': [s5],\n",
        "        's6': [s6], 's7': [s7], 's8': [s8], 's9': [s9], 's10': [s10],\n",
        "        's11': [s11], 's12': [s12], 's13': [s13], 's14': [s14], 's15': [s15],\n",
        "        's16': [s16], 's17': [s17], 's18': [s18], 's19': [s19], 's20': [s20],\n",
        "        's21': [s21]\n",
        "    })\n",
        "\n",
        "    # Print feature columns used during prediction\n",
        "    print(\"Feature columns used during prediction:\", input_data.columns.tolist())\n",
        "\n",
        "    # Ensure the columns are in the same order as during training\n",
        "    input_data = input_data[stored_feature_columns]\n",
        "\n",
        "    # Melakukan feature scaling\n",
        "    input_data_scaled = scaler.transform(input_data)\n",
        "\n",
        "    # Melakukan prediksi\n",
        "    prediction = model.predict(input_data_scaled)\n",
        "    return prediction[0][0]\n",
        "\n",
        "# Membuat widget untuk input pengguna\n",
        "engine_id_input = widgets.IntText(description=\"id:\")\n",
        "cycle_input = widgets.IntText(description=\"cycle:\")\n",
        "op_setting1_input = widgets.FloatText(description=\"Setting 1:\")\n",
        "op_setting2_input = widgets.FloatText(description=\"Setting 2:\")\n",
        "op_setting3_input = widgets.FloatText(description=\"Setting 3:\")\n",
        "sensor_inputs = [widgets.FloatText(description=f\"s{i+1}:\") for i in range(21)]\n",
        "\n",
        "# Tombol untuk melakukan prediksi\n",
        "predict_button = widgets.Button(description=\"Predict\")\n",
        "\n",
        "# Fungsi untuk menampilkan hasil prediksi\n",
        "def on_predict_button_clicked(b):\n",
        "    result = predict_maintenance(\n",
        "        engine_id_input.value,\n",
        "        cycle_input.value,\n",
        "        op_setting1_input.value,\n",
        "        op_setting2_input.value,\n",
        "        op_setting3_input.value,\n",
        "        *[sensor_input.value for sensor_input in sensor_inputs]\n",
        "    )\n",
        "    print(f\"Predicted Time to Failure (TTF): {result}\")\n",
        "\n",
        "predict_button.on_click(on_predict_button_clicked)\n",
        "\n",
        "# Menampilkan widget\n",
        "display(engine_id_input, cycle_input, op_setting1_input, op_setting2_input, op_setting3_input, *sensor_inputs, predict_button)\n"
      ],
      "metadata": {
        "colab": {
          "base_uri": "https://localhost:8080/",
          "height": 1000,
          "referenced_widgets": [
            "d94a3d18d3c642b49fa8a1582034f9e3",
            "355cd0048756493d834cdaa2563fd0fb",
            "988ac082860d4cc9b0b9b98ad82a7163",
            "9f18022ff7474bf7b178ff9635e4de01",
            "3e794455379a4deeace68d44f902005c",
            "dd8dfaea8f344b6cbdbbbcb623aa0b63",
            "844cc2a0a0a64a89aa11d6cefd83a503",
            "2e252c5035b7491a8937266affe61328",
            "a2305fdeb03a4bf08f65e5aeaf6afbe6",
            "53c883602dc0485182e856d8f1fccc20",
            "582b1663d7a74b70bb1300adeccd1622",
            "257140c7a0754f468fc7aa687c3ab272",
            "ccb066c2da6f42b09f245e58bb60e7ce",
            "eda1d81320ee4e669db3cfc2a073e5c8",
            "18e69273675c4b798ce8a245c8701ffc",
            "439a3aede7714352b98dc4da411e2013",
            "9090ef940400442d835856b72d390dba",
            "db7070e32ad9473da25ae2696250f621",
            "99d090d046b2458f908c9c42a26ef84e",
            "d070c844ad2c4b4bacf08cf01ddb4fb4",
            "c5a8fa23839f430fa084a47b4dfed72b",
            "bcf576b4adfe49e08e8f38922d1a876e",
            "b4374ed2db1e4d52921258ce98369c4c",
            "0b5d733a9b654b4580410853f4713230",
            "78cb1f3c3b894455bdbd67789f85353a",
            "7cd86506bca34ac08e2a20f8195e25b6",
            "9838c262ba7f4a5da68e003133463e2e",
            "124a0760bccf48a89f91e13fa17849af",
            "b07d1d8e23e44ed6b6ce0cc644bf7428",
            "399dd5f340904e709ac580381d556056",
            "cd42402e89534e479c24b843c6c2221d",
            "34ac459d54d14466bb35ff3fe284e018",
            "73125aa777b1419a8d4ad498915b0c5e",
            "6dfd9af5b3b746c09240af032f495d05",
            "d6231ac1932e4f26a512615650c71615",
            "17702e1f178a41c8a20982749c910ae2",
            "ec8e1293a77847f7a28d5bc6e28b0b74",
            "ca15b8bb08104815a5961068626e74bc",
            "908d44bf17fe48d3a32bae9e4e1a0f4b",
            "b19b19bda9f943a8bbd0002dec42e5ab",
            "465900f74f8b4535b080ea5985588161",
            "6138f7abfa6d4e4fbf2ec7b5462f208a",
            "60f29839ef71465ca39724e5fd0f28d2",
            "e1a8af7e810e4da2a7563556bedb1c78",
            "0cae162cb2944128905c13c87e59977b",
            "3adbf6c60d6b44ab9dd79b985bdd1dae",
            "203f08484e264694b53a36bc35ee07a2",
            "1bcc81c59a4c40448b280b0de874adc4",
            "c3bc6b30622640fbb4ca382d84b31710",
            "8e3d74bb3ed24ac08dc6430300acbca8",
            "287882d8b23843478f78106a4b3fc322",
            "40d14e6da7d948f6900cc04751df0bff",
            "65664e3eb7484e78999a3462c5602d5a",
            "ba5c8c29c96e4cdb94169f807c654af8",
            "e42aed1199244548823e38d1a8bbbb9f",
            "04c7b83d95e8422abce780982c16e10a",
            "6cccfb312a85440d889f446d7022d339",
            "b0f89565c5494af1972123874ffe89d8",
            "e609f2c18ebd4bf0b79b8d53de2af272",
            "20d323a4c5ab41b3b63704fdeab438ed",
            "8ad10c131b9c457f896d3985c5256a80",
            "b935ec6e6fba452b899036ac2d5fc290",
            "34ae6248832f4597a0bf9b77861857ee",
            "5a37ebf2347f47afb8d3308286684c21",
            "b8d7ddc4b3e94516b1e39ec76a84519c",
            "ceadd793c6c44cb4888c4834ec41e49d",
            "e735dd776a5d45cabc94623296f90714",
            "8fd9796981604daab012d9c265e32844",
            "e0d3f64c2a6b45628c6ea559c8fbd980",
            "94af5cdb6e974ab0b9df36c6aa7265da",
            "180b357c8e6b4eec8730a51e39c7c98f",
            "3f7fbd2cb5ab4f07a2a7616bf236a858",
            "98b89e90c7e142a5a9c9897626464c3b",
            "b14397ce1fda4be3805a54d4e9e511a1",
            "9b80f135276c491589c2aec63300af61",
            "5416bd4ae69f4e378187fa361a51d719",
            "ed04119099464b9995ab27421c3c970d",
            "192ae1b627f74d3abc67e348c4ba8674",
            "83086be59855426fb3cc48a07a0980df",
            "40d84761b9564caf9ce01908da778fde",
            "a2eb3914f13e49ce8bbc1115ef428583"
          ]
        },
        "id": "2LKzXauWcEW2",
        "outputId": "cb4f28e1-897c-452b-9357-da879b7c4e9c"
      },
      "execution_count": 160,
      "outputs": [
        {
          "output_type": "display_data",
          "data": {
            "text/plain": [
              "IntText(value=0, description='id:')"
            ],
            "application/vnd.jupyter.widget-view+json": {
              "version_major": 2,
              "version_minor": 0,
              "model_id": "d94a3d18d3c642b49fa8a1582034f9e3"
            }
          },
          "metadata": {}
        },
        {
          "output_type": "display_data",
          "data": {
            "text/plain": [
              "IntText(value=0, description='cycle:')"
            ],
            "application/vnd.jupyter.widget-view+json": {
              "version_major": 2,
              "version_minor": 0,
              "model_id": "9f18022ff7474bf7b178ff9635e4de01"
            }
          },
          "metadata": {}
        },
        {
          "output_type": "display_data",
          "data": {
            "text/plain": [
              "FloatText(value=0.0, description='Setting 1:')"
            ],
            "application/vnd.jupyter.widget-view+json": {
              "version_major": 2,
              "version_minor": 0,
              "model_id": "844cc2a0a0a64a89aa11d6cefd83a503"
            }
          },
          "metadata": {}
        },
        {
          "output_type": "display_data",
          "data": {
            "text/plain": [
              "FloatText(value=0.0, description='Setting 2:')"
            ],
            "application/vnd.jupyter.widget-view+json": {
              "version_major": 2,
              "version_minor": 0,
              "model_id": "53c883602dc0485182e856d8f1fccc20"
            }
          },
          "metadata": {}
        },
        {
          "output_type": "display_data",
          "data": {
            "text/plain": [
              "FloatText(value=0.0, description='Setting 3:')"
            ],
            "application/vnd.jupyter.widget-view+json": {
              "version_major": 2,
              "version_minor": 0,
              "model_id": "ccb066c2da6f42b09f245e58bb60e7ce"
            }
          },
          "metadata": {}
        },
        {
          "output_type": "display_data",
          "data": {
            "text/plain": [
              "FloatText(value=0.0, description='s1:')"
            ],
            "application/vnd.jupyter.widget-view+json": {
              "version_major": 2,
              "version_minor": 0,
              "model_id": "439a3aede7714352b98dc4da411e2013"
            }
          },
          "metadata": {}
        },
        {
          "output_type": "display_data",
          "data": {
            "text/plain": [
              "FloatText(value=0.0, description='s2:')"
            ],
            "application/vnd.jupyter.widget-view+json": {
              "version_major": 2,
              "version_minor": 0,
              "model_id": "99d090d046b2458f908c9c42a26ef84e"
            }
          },
          "metadata": {}
        },
        {
          "output_type": "display_data",
          "data": {
            "text/plain": [
              "FloatText(value=0.0, description='s3:')"
            ],
            "application/vnd.jupyter.widget-view+json": {
              "version_major": 2,
              "version_minor": 0,
              "model_id": "bcf576b4adfe49e08e8f38922d1a876e"
            }
          },
          "metadata": {}
        },
        {
          "output_type": "display_data",
          "data": {
            "text/plain": [
              "FloatText(value=0.0, description='s4:')"
            ],
            "application/vnd.jupyter.widget-view+json": {
              "version_major": 2,
              "version_minor": 0,
              "model_id": "78cb1f3c3b894455bdbd67789f85353a"
            }
          },
          "metadata": {}
        },
        {
          "output_type": "display_data",
          "data": {
            "text/plain": [
              "FloatText(value=0.0, description='s5:')"
            ],
            "application/vnd.jupyter.widget-view+json": {
              "version_major": 2,
              "version_minor": 0,
              "model_id": "124a0760bccf48a89f91e13fa17849af"
            }
          },
          "metadata": {}
        },
        {
          "output_type": "display_data",
          "data": {
            "text/plain": [
              "FloatText(value=0.0, description='s6:')"
            ],
            "application/vnd.jupyter.widget-view+json": {
              "version_major": 2,
              "version_minor": 0,
              "model_id": "cd42402e89534e479c24b843c6c2221d"
            }
          },
          "metadata": {}
        },
        {
          "output_type": "display_data",
          "data": {
            "text/plain": [
              "FloatText(value=0.0, description='s7:')"
            ],
            "application/vnd.jupyter.widget-view+json": {
              "version_major": 2,
              "version_minor": 0,
              "model_id": "6dfd9af5b3b746c09240af032f495d05"
            }
          },
          "metadata": {}
        },
        {
          "output_type": "display_data",
          "data": {
            "text/plain": [
              "FloatText(value=0.0, description='s8:')"
            ],
            "application/vnd.jupyter.widget-view+json": {
              "version_major": 2,
              "version_minor": 0,
              "model_id": "ec8e1293a77847f7a28d5bc6e28b0b74"
            }
          },
          "metadata": {}
        },
        {
          "output_type": "display_data",
          "data": {
            "text/plain": [
              "FloatText(value=0.0, description='s9:')"
            ],
            "application/vnd.jupyter.widget-view+json": {
              "version_major": 2,
              "version_minor": 0,
              "model_id": "b19b19bda9f943a8bbd0002dec42e5ab"
            }
          },
          "metadata": {}
        },
        {
          "output_type": "display_data",
          "data": {
            "text/plain": [
              "FloatText(value=0.0, description='s10:')"
            ],
            "application/vnd.jupyter.widget-view+json": {
              "version_major": 2,
              "version_minor": 0,
              "model_id": "60f29839ef71465ca39724e5fd0f28d2"
            }
          },
          "metadata": {}
        },
        {
          "output_type": "display_data",
          "data": {
            "text/plain": [
              "FloatText(value=0.0, description='s11:')"
            ],
            "application/vnd.jupyter.widget-view+json": {
              "version_major": 2,
              "version_minor": 0,
              "model_id": "3adbf6c60d6b44ab9dd79b985bdd1dae"
            }
          },
          "metadata": {}
        },
        {
          "output_type": "display_data",
          "data": {
            "text/plain": [
              "FloatText(value=0.0, description='s12:')"
            ],
            "application/vnd.jupyter.widget-view+json": {
              "version_major": 2,
              "version_minor": 0,
              "model_id": "c3bc6b30622640fbb4ca382d84b31710"
            }
          },
          "metadata": {}
        },
        {
          "output_type": "display_data",
          "data": {
            "text/plain": [
              "FloatText(value=0.0, description='s13:')"
            ],
            "application/vnd.jupyter.widget-view+json": {
              "version_major": 2,
              "version_minor": 0,
              "model_id": "40d14e6da7d948f6900cc04751df0bff"
            }
          },
          "metadata": {}
        },
        {
          "output_type": "display_data",
          "data": {
            "text/plain": [
              "FloatText(value=0.0, description='s14:')"
            ],
            "application/vnd.jupyter.widget-view+json": {
              "version_major": 2,
              "version_minor": 0,
              "model_id": "e42aed1199244548823e38d1a8bbbb9f"
            }
          },
          "metadata": {}
        },
        {
          "output_type": "display_data",
          "data": {
            "text/plain": [
              "FloatText(value=0.0, description='s15:')"
            ],
            "application/vnd.jupyter.widget-view+json": {
              "version_major": 2,
              "version_minor": 0,
              "model_id": "b0f89565c5494af1972123874ffe89d8"
            }
          },
          "metadata": {}
        },
        {
          "output_type": "display_data",
          "data": {
            "text/plain": [
              "FloatText(value=0.0, description='s16:')"
            ],
            "application/vnd.jupyter.widget-view+json": {
              "version_major": 2,
              "version_minor": 0,
              "model_id": "8ad10c131b9c457f896d3985c5256a80"
            }
          },
          "metadata": {}
        },
        {
          "output_type": "display_data",
          "data": {
            "text/plain": [
              "FloatText(value=0.0, description='s17:')"
            ],
            "application/vnd.jupyter.widget-view+json": {
              "version_major": 2,
              "version_minor": 0,
              "model_id": "5a37ebf2347f47afb8d3308286684c21"
            }
          },
          "metadata": {}
        },
        {
          "output_type": "display_data",
          "data": {
            "text/plain": [
              "FloatText(value=0.0, description='s18:')"
            ],
            "application/vnd.jupyter.widget-view+json": {
              "version_major": 2,
              "version_minor": 0,
              "model_id": "e735dd776a5d45cabc94623296f90714"
            }
          },
          "metadata": {}
        },
        {
          "output_type": "display_data",
          "data": {
            "text/plain": [
              "FloatText(value=0.0, description='s19:')"
            ],
            "application/vnd.jupyter.widget-view+json": {
              "version_major": 2,
              "version_minor": 0,
              "model_id": "94af5cdb6e974ab0b9df36c6aa7265da"
            }
          },
          "metadata": {}
        },
        {
          "output_type": "display_data",
          "data": {
            "text/plain": [
              "FloatText(value=0.0, description='s20:')"
            ],
            "application/vnd.jupyter.widget-view+json": {
              "version_major": 2,
              "version_minor": 0,
              "model_id": "98b89e90c7e142a5a9c9897626464c3b"
            }
          },
          "metadata": {}
        },
        {
          "output_type": "display_data",
          "data": {
            "text/plain": [
              "FloatText(value=0.0, description='s21:')"
            ],
            "application/vnd.jupyter.widget-view+json": {
              "version_major": 2,
              "version_minor": 0,
              "model_id": "5416bd4ae69f4e378187fa361a51d719"
            }
          },
          "metadata": {}
        },
        {
          "output_type": "display_data",
          "data": {
            "text/plain": [
              "Button(description='Predict', style=ButtonStyle())"
            ],
            "application/vnd.jupyter.widget-view+json": {
              "version_major": 2,
              "version_minor": 0,
              "model_id": "83086be59855426fb3cc48a07a0980df"
            }
          },
          "metadata": {}
        },
        {
          "output_type": "stream",
          "name": "stdout",
          "text": [
            "Feature columns used during prediction: ['cycle', 'op_setting1', 'op_setting2', 'op_setting3', 's1', 's2', 's3', 's4', 's5', 's6', 's7', 's8', 's9', 's10', 's11', 's12', 's13', 's14', 's15', 's16', 's17', 's18', 's19', 's20', 's21']\n"
          ]
        },
        {
          "output_type": "error",
          "ename": "KeyError",
          "evalue": "\"['setting1', 'setting2', 'setting3'] not in index\"",
          "traceback": [
            "\u001b[0;31m---------------------------------------------------------------------------\u001b[0m",
            "\u001b[0;31mKeyError\u001b[0m                                  Traceback (most recent call last)",
            "\u001b[0;32m<ipython-input-160-33dfb6e7bd13>\u001b[0m in \u001b[0;36mon_predict_button_clicked\u001b[0;34m(b)\u001b[0m\n\u001b[1;32m     39\u001b[0m \u001b[0;31m# Fungsi untuk menampilkan hasil prediksi\u001b[0m\u001b[0;34m\u001b[0m\u001b[0;34m\u001b[0m\u001b[0m\n\u001b[1;32m     40\u001b[0m \u001b[0;32mdef\u001b[0m \u001b[0mon_predict_button_clicked\u001b[0m\u001b[0;34m(\u001b[0m\u001b[0mb\u001b[0m\u001b[0;34m)\u001b[0m\u001b[0;34m:\u001b[0m\u001b[0;34m\u001b[0m\u001b[0;34m\u001b[0m\u001b[0m\n\u001b[0;32m---> 41\u001b[0;31m     result = predict_maintenance(\n\u001b[0m\u001b[1;32m     42\u001b[0m         \u001b[0mengine_id_input\u001b[0m\u001b[0;34m.\u001b[0m\u001b[0mvalue\u001b[0m\u001b[0;34m,\u001b[0m\u001b[0;34m\u001b[0m\u001b[0;34m\u001b[0m\u001b[0m\n\u001b[1;32m     43\u001b[0m         \u001b[0mcycle_input\u001b[0m\u001b[0;34m.\u001b[0m\u001b[0mvalue\u001b[0m\u001b[0;34m,\u001b[0m\u001b[0;34m\u001b[0m\u001b[0;34m\u001b[0m\u001b[0m\n",
            "\u001b[0;32m<ipython-input-160-33dfb6e7bd13>\u001b[0m in \u001b[0;36mpredict_maintenance\u001b[0;34m(engine_id, cycle, op_setting1, op_setting2, op_setting3, s1, s2, s3, s4, s5, s6, s7, s8, s9, s10, s11, s12, s13, s14, s15, s16, s17, s18, s19, s20, s21)\u001b[0m\n\u001b[1;32m     17\u001b[0m \u001b[0;34m\u001b[0m\u001b[0m\n\u001b[1;32m     18\u001b[0m     \u001b[0;31m# Ensure the columns are in the same order as during training\u001b[0m\u001b[0;34m\u001b[0m\u001b[0;34m\u001b[0m\u001b[0m\n\u001b[0;32m---> 19\u001b[0;31m     \u001b[0minput_data\u001b[0m \u001b[0;34m=\u001b[0m \u001b[0minput_data\u001b[0m\u001b[0;34m[\u001b[0m\u001b[0mstored_feature_columns\u001b[0m\u001b[0;34m]\u001b[0m\u001b[0;34m\u001b[0m\u001b[0;34m\u001b[0m\u001b[0m\n\u001b[0m\u001b[1;32m     20\u001b[0m \u001b[0;34m\u001b[0m\u001b[0m\n\u001b[1;32m     21\u001b[0m     \u001b[0;31m# Melakukan feature scaling\u001b[0m\u001b[0;34m\u001b[0m\u001b[0;34m\u001b[0m\u001b[0m\n",
            "\u001b[0;32m/usr/local/lib/python3.10/dist-packages/pandas/core/frame.py\u001b[0m in \u001b[0;36m__getitem__\u001b[0;34m(self, key)\u001b[0m\n\u001b[1;32m   3765\u001b[0m             \u001b[0;32mif\u001b[0m \u001b[0mis_iterator\u001b[0m\u001b[0;34m(\u001b[0m\u001b[0mkey\u001b[0m\u001b[0;34m)\u001b[0m\u001b[0;34m:\u001b[0m\u001b[0;34m\u001b[0m\u001b[0;34m\u001b[0m\u001b[0m\n\u001b[1;32m   3766\u001b[0m                 \u001b[0mkey\u001b[0m \u001b[0;34m=\u001b[0m \u001b[0mlist\u001b[0m\u001b[0;34m(\u001b[0m\u001b[0mkey\u001b[0m\u001b[0;34m)\u001b[0m\u001b[0;34m\u001b[0m\u001b[0;34m\u001b[0m\u001b[0m\n\u001b[0;32m-> 3767\u001b[0;31m             \u001b[0mindexer\u001b[0m \u001b[0;34m=\u001b[0m \u001b[0mself\u001b[0m\u001b[0;34m.\u001b[0m\u001b[0mcolumns\u001b[0m\u001b[0;34m.\u001b[0m\u001b[0m_get_indexer_strict\u001b[0m\u001b[0;34m(\u001b[0m\u001b[0mkey\u001b[0m\u001b[0;34m,\u001b[0m \u001b[0;34m\"columns\"\u001b[0m\u001b[0;34m)\u001b[0m\u001b[0;34m[\u001b[0m\u001b[0;36m1\u001b[0m\u001b[0;34m]\u001b[0m\u001b[0;34m\u001b[0m\u001b[0;34m\u001b[0m\u001b[0m\n\u001b[0m\u001b[1;32m   3768\u001b[0m \u001b[0;34m\u001b[0m\u001b[0m\n\u001b[1;32m   3769\u001b[0m         \u001b[0;31m# take() does not accept boolean indexers\u001b[0m\u001b[0;34m\u001b[0m\u001b[0;34m\u001b[0m\u001b[0m\n",
            "\u001b[0;32m/usr/local/lib/python3.10/dist-packages/pandas/core/indexes/base.py\u001b[0m in \u001b[0;36m_get_indexer_strict\u001b[0;34m(self, key, axis_name)\u001b[0m\n\u001b[1;32m   5875\u001b[0m             \u001b[0mkeyarr\u001b[0m\u001b[0;34m,\u001b[0m \u001b[0mindexer\u001b[0m\u001b[0;34m,\u001b[0m \u001b[0mnew_indexer\u001b[0m \u001b[0;34m=\u001b[0m \u001b[0mself\u001b[0m\u001b[0;34m.\u001b[0m\u001b[0m_reindex_non_unique\u001b[0m\u001b[0;34m(\u001b[0m\u001b[0mkeyarr\u001b[0m\u001b[0;34m)\u001b[0m\u001b[0;34m\u001b[0m\u001b[0;34m\u001b[0m\u001b[0m\n\u001b[1;32m   5876\u001b[0m \u001b[0;34m\u001b[0m\u001b[0m\n\u001b[0;32m-> 5877\u001b[0;31m         \u001b[0mself\u001b[0m\u001b[0;34m.\u001b[0m\u001b[0m_raise_if_missing\u001b[0m\u001b[0;34m(\u001b[0m\u001b[0mkeyarr\u001b[0m\u001b[0;34m,\u001b[0m \u001b[0mindexer\u001b[0m\u001b[0;34m,\u001b[0m \u001b[0maxis_name\u001b[0m\u001b[0;34m)\u001b[0m\u001b[0;34m\u001b[0m\u001b[0;34m\u001b[0m\u001b[0m\n\u001b[0m\u001b[1;32m   5878\u001b[0m \u001b[0;34m\u001b[0m\u001b[0m\n\u001b[1;32m   5879\u001b[0m         \u001b[0mkeyarr\u001b[0m \u001b[0;34m=\u001b[0m \u001b[0mself\u001b[0m\u001b[0;34m.\u001b[0m\u001b[0mtake\u001b[0m\u001b[0;34m(\u001b[0m\u001b[0mindexer\u001b[0m\u001b[0;34m)\u001b[0m\u001b[0;34m\u001b[0m\u001b[0;34m\u001b[0m\u001b[0m\n",
            "\u001b[0;32m/usr/local/lib/python3.10/dist-packages/pandas/core/indexes/base.py\u001b[0m in \u001b[0;36m_raise_if_missing\u001b[0;34m(self, key, indexer, axis_name)\u001b[0m\n\u001b[1;32m   5939\u001b[0m \u001b[0;34m\u001b[0m\u001b[0m\n\u001b[1;32m   5940\u001b[0m             \u001b[0mnot_found\u001b[0m \u001b[0;34m=\u001b[0m \u001b[0mlist\u001b[0m\u001b[0;34m(\u001b[0m\u001b[0mensure_index\u001b[0m\u001b[0;34m(\u001b[0m\u001b[0mkey\u001b[0m\u001b[0;34m)\u001b[0m\u001b[0;34m[\u001b[0m\u001b[0mmissing_mask\u001b[0m\u001b[0;34m.\u001b[0m\u001b[0mnonzero\u001b[0m\u001b[0;34m(\u001b[0m\u001b[0;34m)\u001b[0m\u001b[0;34m[\u001b[0m\u001b[0;36m0\u001b[0m\u001b[0;34m]\u001b[0m\u001b[0;34m]\u001b[0m\u001b[0;34m.\u001b[0m\u001b[0munique\u001b[0m\u001b[0;34m(\u001b[0m\u001b[0;34m)\u001b[0m\u001b[0;34m)\u001b[0m\u001b[0;34m\u001b[0m\u001b[0;34m\u001b[0m\u001b[0m\n\u001b[0;32m-> 5941\u001b[0;31m             \u001b[0;32mraise\u001b[0m \u001b[0mKeyError\u001b[0m\u001b[0;34m(\u001b[0m\u001b[0;34mf\"{not_found} not in index\"\u001b[0m\u001b[0;34m)\u001b[0m\u001b[0;34m\u001b[0m\u001b[0;34m\u001b[0m\u001b[0m\n\u001b[0m\u001b[1;32m   5942\u001b[0m \u001b[0;34m\u001b[0m\u001b[0m\n\u001b[1;32m   5943\u001b[0m     \u001b[0;34m@\u001b[0m\u001b[0moverload\u001b[0m\u001b[0;34m\u001b[0m\u001b[0;34m\u001b[0m\u001b[0m\n",
            "\u001b[0;31mKeyError\u001b[0m: \"['setting1', 'setting2', 'setting3'] not in index\""
          ]
        }
      ]
    }
  ]
}